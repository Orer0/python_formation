{
 "cells": [
  {
   "cell_type": "code",
   "execution_count": 6,
   "metadata": {},
   "outputs": [],
   "source": [
    "days = 365"
   ]
  },
  {
   "cell_type": "code",
   "execution_count": 7,
   "metadata": {},
   "outputs": [
    {
     "data": {
      "text/plain": [
       "365"
      ]
     },
     "execution_count": 7,
     "metadata": {},
     "output_type": "execute_result"
    }
   ],
   "source": [
    "days"
   ]
  },
  {
   "cell_type": "code",
   "execution_count": 8,
   "metadata": {},
   "outputs": [],
   "source": [
    "france = 75\n",
    "spain = 80\n",
    "germ = 90"
   ]
  },
  {
   "cell_type": "code",
   "execution_count": 9,
   "metadata": {},
   "outputs": [
    {
     "name": "stdout",
     "output_type": "stream",
     "text": [
      "75\n"
     ]
    }
   ],
   "source": [
    "print(france)"
   ]
  },
  {
   "cell_type": "code",
   "execution_count": 11,
   "metadata": {},
   "outputs": [],
   "source": [
    "france = 123"
   ]
  },
  {
   "cell_type": "code",
   "execution_count": 12,
   "metadata": {},
   "outputs": [],
   "source": [
    "france_type = type(france)"
   ]
  },
  {
   "cell_type": "code",
   "execution_count": 13,
   "metadata": {},
   "outputs": [
    {
     "name": "stdout",
     "output_type": "stream",
     "text": [
      "<class 'int'>\n"
     ]
    }
   ],
   "source": [
    "print(france_type)"
   ]
  },
  {
   "cell_type": "code",
   "execution_count": 14,
   "metadata": {},
   "outputs": [],
   "source": [
    "france = \"coucou\""
   ]
  },
  {
   "cell_type": "code",
   "execution_count": 15,
   "metadata": {},
   "outputs": [],
   "source": [
    "france_type = type(france)"
   ]
  },
  {
   "cell_type": "code",
   "execution_count": 16,
   "metadata": {},
   "outputs": [
    {
     "name": "stdout",
     "output_type": "stream",
     "text": [
      "<class 'str'>\n"
     ]
    }
   ],
   "source": [
    "print(france_type)"
   ]
  },
  {
   "cell_type": "code",
   "execution_count": 17,
   "metadata": {},
   "outputs": [
    {
     "name": "stdout",
     "output_type": "stream",
     "text": [
      "<class 'str'>\n"
     ]
    }
   ],
   "source": [
    "print(type(france))"
   ]
  },
  {
   "cell_type": "code",
   "execution_count": 18,
   "metadata": {},
   "outputs": [],
   "source": [
    "bool = True"
   ]
  },
  {
   "cell_type": "code",
   "execution_count": 19,
   "metadata": {},
   "outputs": [
    {
     "name": "stdout",
     "output_type": "stream",
     "text": [
      "True\n"
     ]
    }
   ],
   "source": [
    "print(bool)"
   ]
  },
  {
   "cell_type": "code",
   "execution_count": 20,
   "metadata": {},
   "outputs": [],
   "source": [
    "i = 1000"
   ]
  },
  {
   "cell_type": "code",
   "execution_count": 21,
   "metadata": {},
   "outputs": [
    {
     "data": {
      "text/plain": [
       "'1000'"
      ]
     },
     "execution_count": 21,
     "metadata": {},
     "output_type": "execute_result"
    }
   ],
   "source": [
    "str(i)"
   ]
  },
  {
   "cell_type": "code",
   "execution_count": 22,
   "metadata": {},
   "outputs": [
    {
     "name": "stdout",
     "output_type": "stream",
     "text": [
      "<class 'int'>\n"
     ]
    }
   ],
   "source": [
    "print(type(i))"
   ]
  },
  {
   "cell_type": "code",
   "execution_count": 23,
   "metadata": {},
   "outputs": [
    {
     "name": "stdout",
     "output_type": "stream",
     "text": [
      "<class 'str'>\n"
     ]
    }
   ],
   "source": [
    "print(type(str(i)))\n"
   ]
  },
  {
   "cell_type": "code",
   "execution_count": 25,
   "metadata": {},
   "outputs": [
    {
     "name": "stdout",
     "output_type": "stream",
     "text": [
      "<class 'int'>\n"
     ]
    }
   ],
   "source": [
    "str1 = '1234'\n",
    "print(type(int(str1)))"
   ]
  },
  {
   "cell_type": "code",
   "execution_count": 26,
   "metadata": {},
   "outputs": [
    {
     "name": "stdout",
     "output_type": "stream",
     "text": [
      "4\n"
     ]
    }
   ],
   "source": [
    "sumo = 2 + 2\n",
    "print (sumo)"
   ]
  },
  {
   "cell_type": "code",
   "execution_count": 27,
   "metadata": {},
   "outputs": [],
   "source": [
    "a = '123'\n",
    "b = '1'\n",
    "c = a + b"
   ]
  },
  {
   "cell_type": "code",
   "execution_count": 28,
   "metadata": {},
   "outputs": [
    {
     "name": "stdout",
     "output_type": "stream",
     "text": [
      "1231\n"
     ]
    }
   ],
   "source": [
    "print(c)"
   ]
  },
  {
   "cell_type": "code",
   "execution_count": 29,
   "metadata": {},
   "outputs": [
    {
     "name": "stdout",
     "output_type": "stream",
     "text": [
      "4.5\n"
     ]
    }
   ],
   "source": [
    "a = 9 \n",
    "b = a / 2\n",
    "print(b)"
   ]
  },
  {
   "cell_type": "code",
   "execution_count": 30,
   "metadata": {},
   "outputs": [],
   "source": [
    "month = []"
   ]
  },
  {
   "cell_type": "code",
   "execution_count": 32,
   "metadata": {},
   "outputs": [],
   "source": [
    "#append method\n",
    "month.append(\"jan\" \"fev\")"
   ]
  },
  {
   "cell_type": "code",
   "execution_count": 33,
   "metadata": {},
   "outputs": [
    {
     "name": "stdout",
     "output_type": "stream",
     "text": [
      "['janfev']\n"
     ]
    }
   ],
   "source": [
    "print(month)"
   ]
  },
  {
   "cell_type": "markdown",
   "metadata": {},
   "source": [
    "month = [1, \"jan\", \"fev\", 4]"
   ]
  },
  {
   "cell_type": "code",
   "execution_count": 37,
   "metadata": {},
   "outputs": [
    {
     "name": "stdout",
     "output_type": "stream",
     "text": [
      "[1, 'jan', 4, 'fev']\n"
     ]
    }
   ],
   "source": [
    "month = [1, \"jan\", 4, \"fev\"]\n",
    "print(month)"
   ]
  },
  {
   "cell_type": "code",
   "execution_count": 38,
   "metadata": {},
   "outputs": [],
   "source": [
    "month.append(\"bite\")"
   ]
  },
  {
   "cell_type": "code",
   "execution_count": 39,
   "metadata": {},
   "outputs": [
    {
     "name": "stdout",
     "output_type": "stream",
     "text": [
      "[1, 'jan', 4, 'fev', 'bite']\n"
     ]
    }
   ],
   "source": [
    "print(month)"
   ]
  },
  {
   "cell_type": "code",
   "execution_count": 41,
   "metadata": {},
   "outputs": [
    {
     "data": {
      "text/plain": [
       "'jan'"
      ]
     },
     "execution_count": 41,
     "metadata": {},
     "output_type": "execute_result"
    }
   ],
   "source": [
    "month[1]"
   ]
  },
  {
   "cell_type": "markdown",
   "metadata": {},
   "source": []
  },
  {
   "cell_type": "code",
   "execution_count": 42,
   "metadata": {},
   "outputs": [
    {
     "data": {
      "text/plain": [
       "1"
      ]
     },
     "execution_count": 42,
     "metadata": {},
     "output_type": "execute_result"
    }
   ],
   "source": [
    "month[0]"
   ]
  },
  {
   "cell_type": "code",
   "execution_count": 43,
   "metadata": {},
   "outputs": [
    {
     "ename": "IndexError",
     "evalue": "list index out of range",
     "output_type": "error",
     "traceback": [
      "\u001b[0;31m---------------------------------------------------------------------------\u001b[0m",
      "\u001b[0;31mIndexError\u001b[0m                                Traceback (most recent call last)",
      "\u001b[0;32m<ipython-input-43-647e0c8345d5>\u001b[0m in \u001b[0;36m<module>\u001b[0;34m\u001b[0m\n\u001b[0;32m----> 1\u001b[0;31m \u001b[0mmonth\u001b[0m\u001b[0;34m[\u001b[0m\u001b[0;36m3333\u001b[0m\u001b[0;34m]\u001b[0m\u001b[0;34m\u001b[0m\u001b[0m\n\u001b[0m",
      "\u001b[0;31mIndexError\u001b[0m: list index out of range"
     ]
    }
   ],
   "source": [
    "month[3333]"
   ]
  },
  {
   "cell_type": "code",
   "execution_count": 48,
   "metadata": {},
   "outputs": [
    {
     "name": "stdout",
     "output_type": "stream",
     "text": [
      "france   10 \n",
      " spain   20 \t usa   30\n"
     ]
    }
   ],
   "source": [
    "tmp = [\"france\", 10, \"spain\", 20, \"usa\", 30]\n",
    "print(tmp[0],\" \", tmp[1], \"\\n\", tmp[2], \" \", tmp[3], \"\\t\", tmp[4], \" \", tmp[5])"
   ]
  },
  {
   "cell_type": "code",
   "execution_count": 49,
   "metadata": {},
   "outputs": [
    {
     "data": {
      "text/plain": [
       "5"
      ]
     },
     "execution_count": 49,
     "metadata": {},
     "output_type": "execute_result"
    }
   ],
   "source": [
    "len(month)"
   ]
  },
  {
   "cell_type": "code",
   "execution_count": 51,
   "metadata": {},
   "outputs": [
    {
     "name": "stdout",
     "output_type": "stream",
     "text": [
      "bite\n"
     ]
    }
   ],
   "source": [
    "print(month[4])"
   ]
  },
  {
   "cell_type": "code",
   "execution_count": 54,
   "metadata": {},
   "outputs": [
    {
     "ename": "SyntaxError",
     "evalue": "invalid syntax (<ipython-input-54-4e5d96652e93>, line 1)",
     "output_type": "error",
     "traceback": [
      "\u001b[0;36m  File \u001b[0;32m\"<ipython-input-54-4e5d96652e93>\"\u001b[0;36m, line \u001b[0;32m1\u001b[0m\n\u001b[0;31m    len         tmp)\u001b[0m\n\u001b[0m                  ^\u001b[0m\n\u001b[0;31mSyntaxError\u001b[0m\u001b[0;31m:\u001b[0m invalid syntax\n"
     ]
    }
   ],
   "source": [
    "len         tmp)"
   ]
  },
  {
   "cell_type": "code",
   "execution_count": 61,
   "metadata": {},
   "outputs": [
    {
     "name": "stdout",
     "output_type": "stream",
     "text": [
      "4\n"
     ]
    }
   ],
   "source": [
    "last = len(month) - 1\n",
    "print(last)"
   ]
  },
  {
   "cell_type": "code",
   "execution_count": 62,
   "metadata": {},
   "outputs": [
    {
     "name": "stdout",
     "output_type": "stream",
     "text": [
      "bite\n"
     ]
    }
   ],
   "source": [
    "print(month[last])"
   ]
  },
  {
   "cell_type": "code",
   "execution_count": 63,
   "metadata": {},
   "outputs": [],
   "source": [
    "tmp.append(\"ooooo\")\n",
    "tmp.append(\"icicicic\")"
   ]
  },
  {
   "cell_type": "code",
   "execution_count": 64,
   "metadata": {},
   "outputs": [
    {
     "name": "stdout",
     "output_type": "stream",
     "text": [
      "['france', 10, 'spain', 20, 'usa', 30, 'ooooo', 'icicicic']\n"
     ]
    }
   ],
   "source": [
    "print(tmp)"
   ]
  },
  {
   "cell_type": "code",
   "execution_count": 65,
   "metadata": {},
   "outputs": [],
   "source": [
    "con = ['popo', 'llolo', 'tyty']"
   ]
  },
  {
   "cell_type": "code",
   "execution_count": 66,
   "metadata": {},
   "outputs": [],
   "source": [
    "sum = len(tmp) + len(con)"
   ]
  },
  {
   "cell_type": "code",
   "execution_count": 67,
   "metadata": {},
   "outputs": [
    {
     "name": "stdout",
     "output_type": "stream",
     "text": [
      "11\n"
     ]
    }
   ],
   "source": [
    "print(sum)"
   ]
  },
  {
   "cell_type": "code",
   "execution_count": 74,
   "metadata": {},
   "outputs": [],
   "source": [
    "month_slic = tmp[:6]"
   ]
  },
  {
   "cell_type": "code",
   "execution_count": 75,
   "metadata": {},
   "outputs": [
    {
     "name": "stdout",
     "output_type": "stream",
     "text": [
      "['france', 10, 'spain', 20, 'usa', 30]\n"
     ]
    }
   ],
   "source": [
    "print(month_slic)"
   ]
  },
  {
   "cell_type": "code",
   "execution_count": 98,
   "metadata": {},
   "outputs": [
    {
     "name": "stdout",
     "output_type": "stream",
     "text": [
      "Ain,643309\n",
      "Aisne,554040\n",
      "Allier,353262\n",
      "Alpes-de-Haute-Provence,166298\n",
      "Alpes-Maritimes,1098785\n",
      "Ardèche,332051\n",
      "Ardennes,287775\n",
      "Ariège,158076\n",
      "Aube,316098\n",
      "Aude,375065\n",
      "Aveyron,289901\n",
      "Bas-Rhin,1131812\n",
      "Bouches-du-Rhône,2035475\n",
      "Calvados,708407\n",
      "Cantal,152400\n",
      "Charente,366787\n",
      "Charente-Maritime,656046\n",
      "Cher,318590\n",
      "Corrèze,249684\n",
      "Corse-du-Sud,154100\n",
      "Côte-d'Or,545001\n",
      "Côtes-d'Armor,617413\n",
      "Creuse,124948\n",
      "Deux-Sèvres,384655\n",
      "Dordogne,428651\n",
      "Doubs,549155\n",
      "Drôme,514104\n",
      "Essonne,1286908\n",
      "Eure,616076\n",
      "Eure-et-Loir,445083\n",
      "Finistère,935393\n",
      "Gard,752382\n",
      "Gers,197988\n",
      "Gironde,1556663\n",
      "Guadeloupe,406706\n",
      "Guyane,254845\n",
      "Haute-Corse,175499\n",
      "Haute-Garonne,1344579\n",
      "Haute-Loire,234078\n",
      "Haute-Marne,186698\n",
      "Hautes-Alpes,145213\n",
      "Haute-Saône,246022\n",
      "Haute-Savoie,806447\n",
      "Hautes-Pyrénées,236577\n",
      "Haute-Vienne,384708\n",
      "Haut-Rhin,775941\n",
      "Hauts-de-Seine,1617484\n",
      "Hérault,1127333\n",
      "Ille-et-Vilaine,1060051\n",
      "Indre,232802\n",
      "Indre-et-Loire,619004\n",
      "Isère,1271938\n",
      "Jura,270826\n",
      "La Réunion,541487\n",
      "Landes,414090\n",
      "Loire,774262\n",
      "Loire-Atlantique,1382766\n",
      "Loiret,688098\n",
      "Loir-et-Cher,344121\n",
      "Lot,180016\n",
      "Lot-et-Garonne,343198\n",
      "Lozère,80423\n",
      "Maine-et-Loire,829156\n",
      "Manche,518322\n",
      "Marne,584297\n",
      "Martinique,390252\n",
      "Mayenne,317716\n",
      "Meurthe-et-Moselle,746687\n",
      "Meuse,197763\n",
      "Morbihan,764338\n",
      "Moselle,1065894\n",
      "Nièvre,221048\n",
      "Nord,2640622\n",
      "Oise,838646\n",
      "Orne,297109\n",
      "Paris,2243739\n",
      "Pas-de-Calais,1497668\n",
      "Puy-de-Dôme,661248\n",
      "Pyrénées-Atlantiques,688451\n",
      "Pyrénées-Orientales,474842\n",
      "Rhône,1833002\n",
      "Saône-et-Loire,574229\n",
      "Sarthe,583961\n",
      "Savoie,440777\n",
      "Seine-et-Marne,1400477\n",
      "Seine-Maritime,1284107\n",
      "Seine-Saint-Denis,1582139\n",
      "Somme,583641\n",
      "Tarn,396341\n",
      "Tarn-et-Garonne,258696\n",
      "Territoire de Belfort,147647\n",
      "Val-de-Marne,1377511\n",
      "Val-d'Oise,1221946\n",
      "Var,1055745\n",
      "Vaucluse,566592\n",
      "Vendée,681469\n",
      "Vienne,444347\n",
      "Vosges,386978\n",
      "Yonne,352433\n",
      "Yvelines,1449398\n"
     ]
    }
   ],
   "source": [
    "fd = open(\"departements-fr.csv\", \"r\", encoding=\"latin -1\")\n",
    "g = fd.read()\n",
    "print(g)"
   ]
  },
  {
   "cell_type": "code",
   "execution_count": 78,
   "metadata": {},
   "outputs": [
    {
     "ename": "NameError",
     "evalue": "name 'read' is not defined",
     "output_type": "error",
     "traceback": [
      "\u001b[0;31m---------------------------------------------------------------------------\u001b[0m",
      "\u001b[0;31mNameError\u001b[0m                                 Traceback (most recent call last)",
      "\u001b[0;32m<ipython-input-78-6a7ad6bd7761>\u001b[0m in \u001b[0;36m<module>\u001b[0;34m\u001b[0m\n\u001b[0;32m----> 1\u001b[0;31m \u001b[0mprint\u001b[0m\u001b[0;34m(\u001b[0m\u001b[0mread\u001b[0m\u001b[0;34m(\u001b[0m\u001b[0mfd\u001b[0m\u001b[0;34m)\u001b[0m\u001b[0;34m)\u001b[0m\u001b[0;34m\u001b[0m\u001b[0m\n\u001b[0m",
      "\u001b[0;31mNameError\u001b[0m: name 'read' is not defined"
     ]
    }
   ],
   "source": [
    "print(read(fd))"
   ]
  },
  {
   "cell_type": "code",
   "execution_count": 95,
   "metadata": {},
   "outputs": [
    {
     "name": "stdout",
     "output_type": "stream",
     "text": [
      "Ain,643309\r\n",
      "Aisne,554040\r\n",
      "Allier,353262\r\n",
      "Alpes-de-Haute-Provence,166298\r\n",
      "Alpes-Maritimes,1098785\r\n",
      "Ardèche,332051\r\n",
      "Ardennes,287775\r\n",
      "Ariège,158076\r\n",
      "Aube,316098\r\n",
      "Aude,375065\r\n",
      "Aveyron,289901\r\n",
      "Bas-Rhin,1131812\r\n",
      "Bouches-du-Rhône,2035475\r\n",
      "Calvados,708407\r\n",
      "Cantal,152400\r\n",
      "Charente,366787\r\n",
      "Charente-Maritime,656046\r\n",
      "Cher,318590\r\n",
      "Corrèze,249684\r\n",
      "Corse-du-Sud,154100\r\n",
      "Côte-d'Or,545001\r\n",
      "Côtes-d'Armor,617413\r\n",
      "Creuse,124948\r\n",
      "Deux-Sèvres,384655\r\n",
      "Dordogne,428651\r\n",
      "Doubs,549155\r\n",
      "Drôme,514104\r\n",
      "Essonne,1286908\r\n",
      "Eure,616076\r\n",
      "Eure-et-Loir,445083\r\n",
      "Finistère,935393\r\n",
      "Gard,752382\r\n",
      "Gers,197988\r\n",
      "Gironde,1556663\r\n",
      "Guadeloupe,406706\r\n",
      "Guyane,254845\r\n",
      "Haute-Corse,175499\r\n",
      "Haute-Garonne,1344579\r\n",
      "Haute-Loire,234078\r\n",
      "Haute-Marne,186698\r\n",
      "Hautes-Alpes,145213\r\n",
      "Haute-Saône,246022\r\n",
      "Haute-Savoie,806447\r\n",
      "Hautes-Pyrénées,236577\r\n",
      "Haute-Vienne,384708\r\n",
      "Haut-Rhin,775941\r\n",
      "Hauts-de-Seine,1617484\r\n",
      "Hérault,1127333\r\n",
      "Ille-et-Vilaine,1060051\r\n",
      "Indre,232802\r\n",
      "Indre-et-Loire,619004\r\n",
      "Isère,1271938\r\n",
      "Jura,270826\r\n",
      "La Réunion,541487\r\n",
      "Landes,414090\r\n",
      "Loire,774262\r\n",
      "Loire-Atlantique,1382766\r\n",
      "Loiret,688098\r\n",
      "Loir-et-Cher,344121\r\n",
      "Lot,180016\r\n",
      "Lot-et-Garonne,343198\r\n",
      "Lozère,80423\r\n",
      "Maine-et-Loire,829156\r\n",
      "Manche,518322\r\n",
      "Marne,584297\r\n",
      "Martinique,390252\r\n",
      "Mayenne,317716\r\n",
      "Meurthe-et-Moselle,746687\r\n",
      "Meuse,197763\r\n",
      "Morbihan,764338\r\n",
      "Moselle,1065894\r\n",
      "Nièvre,221048\r\n",
      "Nord,2640622\r\n",
      "Oise,838646\r\n",
      "Orne,297109\r\n",
      "Paris,2243739\r\n",
      "Pas-de-Calais,1497668\r\n",
      "Puy-de-Dôme,661248\r\n",
      "Pyrénées-Atlantiques,688451\r\n",
      "Pyrénées-Orientales,474842\r\n",
      "Rhône,1833002\r\n",
      "Saône-et-Loire,574229\r\n",
      "Sarthe,583961\r\n",
      "Savoie,440777\r\n",
      "Seine-et-Marne,1400477\r\n",
      "Seine-Maritime,1284107\r\n",
      "Seine-Saint-Denis,1582139\r\n",
      "Somme,583641\r\n",
      "Tarn,396341\r\n",
      "Tarn-et-Garonne,258696\r\n",
      "Territoire de Belfort,147647\r\n",
      "Val-de-Marne,1377511\r\n",
      "Val-d'Oise,1221946\r\n",
      "Var,1055745\r\n",
      "Vaucluse,566592\r\n",
      "Vendée,681469\r\n",
      "Vienne,444347\r\n",
      "Vosges,386978\r\n",
      "Yonne,352433\r\n",
      "Yvelines,1449398\n"
     ]
    }
   ],
   "source": [
    "import codecs\n",
    "with codecs.open(\"departements-fr.csv\", \"r\",encoding='latin-1') as fdata:\n",
    "    data = fdata.read()\n",
    "print(data)"
   ]
  },
  {
   "cell_type": "code",
   "execution_count": 99,
   "metadata": {},
   "outputs": [
    {
     "data": {
      "text/plain": [
       "str"
      ]
     },
     "execution_count": 99,
     "metadata": {},
     "output_type": "execute_result"
    }
   ],
   "source": [
    "type(data)"
   ]
  },
  {
   "cell_type": "code",
   "execution_count": 107,
   "metadata": {},
   "outputs": [
    {
     "name": "stdout",
     "output_type": "stream",
     "text": [
      "['Ain,643309', 'Aisne,554040', 'Allier,353262', 'Alpes-de-Haute-Provence,166298', 'Alpes-Maritimes,1098785']\n"
     ]
    }
   ],
   "source": [
    "list_data = g.split('\\n')\n",
    "print(list_data[:5])"
   ]
  },
  {
   "cell_type": "code",
   "execution_count": 110,
   "metadata": {},
   "outputs": [
    {
     "name": "stdout",
     "output_type": "stream",
     "text": [
      "Ain,643309\n",
      "Aisne,554040\n",
      "Allier,353262\n",
      "Alpes-de-Haute-Provence,166298\n",
      "Alpes-Maritimes,1098785\n",
      "Ardèche,332051\n",
      "Ardennes,287775\n",
      "Ariège,158076\n",
      "Aube,316098\n",
      "Aude,375065\n"
     ]
    }
   ],
   "source": [
    "tem_row = list_data[:10]\n",
    "for i in tem_row:\n",
    "    print(i)\n",
    "    "
   ]
  },
  {
   "cell_type": "code",
   "execution_count": 111,
   "metadata": {},
   "outputs": [],
   "source": [
    "final_lst = []\n",
    "for row in tem_row:\n",
    "    split_list = row.split(',')\n",
    "    final_lst.append(split_list)"
   ]
  },
  {
   "cell_type": "code",
   "execution_count": 113,
   "metadata": {},
   "outputs": [
    {
     "name": "stdout",
     "output_type": "stream",
     "text": [
      "[['Ain', '643309'], ['Aisne', '554040'], ['Allier', '353262'], ['Alpes-de-Haute-Provence', '166298'], ['Alpes-Maritimes', '1098785']]\n"
     ]
    }
   ],
   "source": [
    "print(final_lst[:5])"
   ]
  },
  {
   "cell_type": "code",
   "execution_count": 114,
   "metadata": {},
   "outputs": [
    {
     "name": "stdout",
     "output_type": "stream",
     "text": [
      "['Ain', '643309']\n"
     ]
    }
   ],
   "source": [
    "first = final_lst[0]\n",
    "print(first)"
   ]
  },
  {
   "cell_type": "code",
   "execution_count": 115,
   "metadata": {},
   "outputs": [
    {
     "name": "stdout",
     "output_type": "stream",
     "text": [
      "Ain\n"
     ]
    }
   ],
   "source": [
    "firt_v = first[0]\n",
    "print(firt_v)"
   ]
  },
  {
   "cell_type": "code",
   "execution_count": 116,
   "metadata": {},
   "outputs": [
    {
     "name": "stdout",
     "output_type": "stream",
     "text": [
      "Ain\n"
     ]
    }
   ],
   "source": [
    "print(final_lst[0][0])"
   ]
  },
  {
   "cell_type": "code",
   "execution_count": 117,
   "metadata": {},
   "outputs": [
    {
     "name": "stdout",
     "output_type": "stream",
     "text": [
      "Aisne\n"
     ]
    }
   ],
   "source": [
    "print(final_lst[1][0])"
   ]
  },
  {
   "cell_type": "code",
   "execution_count": 118,
   "metadata": {},
   "outputs": [],
   "source": [
    "five = []\n",
    "\n",
    "for row in final_lst:\n",
    "        five.append(row[1])\n",
    "    \n"
   ]
  },
  {
   "cell_type": "code",
   "execution_count": 119,
   "metadata": {},
   "outputs": [
    {
     "name": "stdout",
     "output_type": "stream",
     "text": [
      "['643309', '554040', '353262', '166298', '1098785', '332051', '287775', '158076', '316098', '375065']\n"
     ]
    }
   ],
   "source": [
    "print(five)"
   ]
  },
  {
   "cell_type": "code",
   "execution_count": 124,
   "metadata": {},
   "outputs": [
    {
     "name": "stdout",
     "output_type": "stream",
     "text": [
      "['Ain,643309', 'Aisne,554040', 'Allier,353262', 'Alpes-de-Haute-Provence,166298', 'Alpes-Maritimes,1098785', 'Ardèche,332051', 'Ardennes,287775', 'Ariège,158076', 'Aube,316098', 'Aude,375065', 'Aveyron,289901', 'Bas-Rhin,1131812', 'Bouches-du-Rhône,2035475', 'Calvados,708407', 'Cantal,152400', 'Charente,366787', 'Charente-Maritime,656046', 'Cher,318590', 'Corrèze,249684', 'Corse-du-Sud,154100', \"Côte-d'Or,545001\", \"Côtes-d'Armor,617413\", 'Creuse,124948', 'Deux-Sèvres,384655', 'Dordogne,428651', 'Doubs,549155', 'Drôme,514104', 'Essonne,1286908', 'Eure,616076', 'Eure-et-Loir,445083', 'Finistère,935393', 'Gard,752382', 'Gers,197988', 'Gironde,1556663', 'Guadeloupe,406706', 'Guyane,254845', 'Haute-Corse,175499', 'Haute-Garonne,1344579', 'Haute-Loire,234078', 'Haute-Marne,186698', 'Hautes-Alpes,145213', 'Haute-Saône,246022', 'Haute-Savoie,806447', 'Hautes-Pyrénées,236577', 'Haute-Vienne,384708', 'Haut-Rhin,775941', 'Hauts-de-Seine,1617484', 'Hérault,1127333', 'Ille-et-Vilaine,1060051', 'Indre,232802', 'Indre-et-Loire,619004', 'Isère,1271938', 'Jura,270826', 'La Réunion,541487', 'Landes,414090', 'Loire,774262', 'Loire-Atlantique,1382766', 'Loiret,688098', 'Loir-et-Cher,344121', 'Lot,180016', 'Lot-et-Garonne,343198', 'Lozère,80423', 'Maine-et-Loire,829156', 'Manche,518322', 'Marne,584297', 'Martinique,390252', 'Mayenne,317716', 'Meurthe-et-Moselle,746687', 'Meuse,197763', 'Morbihan,764338', 'Moselle,1065894', 'Nièvre,221048', 'Nord,2640622', 'Oise,838646', 'Orne,297109', 'Paris,2243739', 'Pas-de-Calais,1497668', 'Puy-de-Dôme,661248', 'Pyrénées-Atlantiques,688451', 'Pyrénées-Orientales,474842', 'Rhône,1833002', 'Saône-et-Loire,574229', 'Sarthe,583961', 'Savoie,440777', 'Seine-et-Marne,1400477', 'Seine-Maritime,1284107', 'Seine-Saint-Denis,1582139', 'Somme,583641', 'Tarn,396341', 'Tarn-et-Garonne,258696', 'Territoire de Belfort,147647', 'Val-de-Marne,1377511', \"Val-d'Oise,1221946\", 'Var,1055745', 'Vaucluse,566592', 'Vendée,681469', 'Vienne,444347', 'Vosges,386978', 'Yonne,352433', 'Yvelines,1449398']\n"
     ]
    }
   ],
   "source": [
    "dep_fr = []\n",
    "\n",
    "for row in list_data:\n",
    "    dep_fr.append(row[0:100])\n",
    "print(dep_fr)"
   ]
  },
  {
   "cell_type": "code",
   "execution_count": null,
   "metadata": {},
   "outputs": [],
   "source": []
  }
 ],
 "metadata": {
  "kernelspec": {
   "display_name": "Python 3",
   "language": "python",
   "name": "python3"
  },
  "language_info": {
   "codemirror_mode": {
    "name": "ipython",
    "version": 3
   },
   "file_extension": ".py",
   "mimetype": "text/x-python",
   "name": "python",
   "nbconvert_exporter": "python",
   "pygments_lexer": "ipython3",
   "version": "3.7.0"
  }
 },
 "nbformat": 4,
 "nbformat_minor": 2
}
