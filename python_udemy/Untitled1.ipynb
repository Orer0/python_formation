{
 "cells": [
  {
   "cell_type": "code",
   "execution_count": 1,
   "metadata": {},
   "outputs": [],
   "source": [
    "fd = open('departements-fr.csv', 'r', encoding='latin-1')"
   ]
  },
  {
   "cell_type": "code",
   "execution_count": 2,
   "metadata": {},
   "outputs": [],
   "source": [
    "data = fd.read()"
   ]
  },
  {
   "cell_type": "code",
   "execution_count": 3,
   "metadata": {},
   "outputs": [
    {
     "name": "stdout",
     "output_type": "stream",
     "text": [
      "Ain,643309\n",
      "Aisne,554040\n",
      "Allier,353262\n",
      "Alpes-de-Haute-Provence,166298\n",
      "Alpes-Maritimes,1098785\n",
      "Ardèche,332051\n",
      "Ardennes,287775\n",
      "Ariège,158076\n",
      "Aube,316098\n",
      "Aude,375065\n",
      "Aveyron,289901\n",
      "Bas-Rhin,1131812\n",
      "Bouches-du-Rhône,2035475\n",
      "Calvados,708407\n",
      "Cantal,152400\n",
      "Charente,366787\n",
      "Charente-Maritime,656046\n",
      "Cher,318590\n",
      "Corrèze,249684\n",
      "Corse-du-Sud,154100\n",
      "Côte-d'Or,545001\n",
      "Côtes-d'Armor,617413\n",
      "Creuse,124948\n",
      "Deux-Sèvres,384655\n",
      "Dordogne,428651\n",
      "Doubs,549155\n",
      "Drôme,514104\n",
      "Essonne,1286908\n",
      "Eure,616076\n",
      "Eure-et-Loir,445083\n",
      "Finistère,935393\n",
      "Gard,752382\n",
      "Gers,197988\n",
      "Gironde,1556663\n",
      "Guadeloupe,406706\n",
      "Guyane,254845\n",
      "Haute-Corse,175499\n",
      "Haute-Garonne,1344579\n",
      "Haute-Loire,234078\n",
      "Haute-Marne,186698\n",
      "Hautes-Alpes,145213\n",
      "Haute-Saône,246022\n",
      "Haute-Savoie,806447\n",
      "Hautes-Pyrénées,236577\n",
      "Haute-Vienne,384708\n",
      "Haut-Rhin,775941\n",
      "Hauts-de-Seine,1617484\n",
      "Hérault,1127333\n",
      "Ille-et-Vilaine,1060051\n",
      "Indre,232802\n",
      "Indre-et-Loire,619004\n",
      "Isère,1271938\n",
      "Jura,270826\n",
      "La Réunion,541487\n",
      "Landes,414090\n",
      "Loire,774262\n",
      "Loire-Atlantique,1382766\n",
      "Loiret,688098\n",
      "Loir-et-Cher,344121\n",
      "Lot,180016\n",
      "Lot-et-Garonne,343198\n",
      "Lozère,80423\n",
      "Maine-et-Loire,829156\n",
      "Manche,518322\n",
      "Marne,584297\n",
      "Martinique,390252\n",
      "Mayenne,317716\n",
      "Meurthe-et-Moselle,746687\n",
      "Meuse,197763\n",
      "Morbihan,764338\n",
      "Moselle,1065894\n",
      "Nièvre,221048\n",
      "Nord,2640622\n",
      "Oise,838646\n",
      "Orne,297109\n",
      "Paris,2243739\n",
      "Pas-de-Calais,1497668\n",
      "Puy-de-Dôme,661248\n",
      "Pyrénées-Atlantiques,688451\n",
      "Pyrénées-Orientales,474842\n",
      "Rhône,1833002\n",
      "Saône-et-Loire,574229\n",
      "Sarthe,583961\n",
      "Savoie,440777\n",
      "Seine-et-Marne,1400477\n",
      "Seine-Maritime,1284107\n",
      "Seine-Saint-Denis,1582139\n",
      "Somme,583641\n",
      "Tarn,396341\n",
      "Tarn-et-Garonne,258696\n",
      "Territoire de Belfort,147647\n",
      "Val-de-Marne,1377511\n",
      "Val-d'Oise,1221946\n",
      "Var,1055745\n",
      "Vaucluse,566592\n",
      "Vendée,681469\n",
      "Vienne,444347\n",
      "Vosges,386978\n",
      "Yonne,352433\n",
      "Yvelines,1449398\n"
     ]
    }
   ],
   "source": [
    "print(data)"
   ]
  },
  {
   "cell_type": "code",
   "execution_count": 30,
   "metadata": {},
   "outputs": [
    {
     "name": "stdout",
     "output_type": "stream",
     "text": [
      "[643309, 554040, 353262, 166298, 1098785, 332051, 287775, 158076, 316098, 375065, 289901, 1131812, 2035475, 708407, 152400, 366787, 656046, 318590, 249684, 154100, 545001, 617413, 124948, 384655, 428651, 549155, 514104, 1286908, 616076, 445083, 935393, 752382, 197988, 1556663, 406706, 254845, 175499, 1344579, 234078, 186698, 145213, 246022, 806447, 236577, 384708, 775941, 1617484, 1127333, 1060051, 232802, 619004, 1271938, 270826, 541487, 414090, 774262, 1382766, 688098, 344121, 180016, 343198, 80423, 829156, 518322, 584297, 390252, 317716, 746687, 197763, 764338, 1065894, 221048, 2640622, 838646, 297109, 2243739, 1497668, 661248, 688451, 474842, 1833002, 574229, 583961, 440777, 1400477, 1284107, 1582139, 583641, 396341, 258696, 147647, 1377511, 1221946, 1055745, 566592, 681469, 444347, 386978, 352433, 1449398]\n"
     ]
    }
   ],
   "source": [
    "lst = data.split('\\n')\n",
    "nb_hab = []\n",
    "\n",
    "for row in lst:\n",
    "    lst_split = row.split(',')\n",
    "    tmp = int(lst_split[1])\n",
    "    nb_hab.append(tmp)\n",
    "print(nb_hab)"
   ]
  },
  {
   "cell_type": "code",
   "execution_count": 21,
   "metadata": {},
   "outputs": [
    {
     "data": {
      "text/plain": [
       "int"
      ]
     },
     "execution_count": 21,
     "metadata": {},
     "output_type": "execute_result"
    }
   ],
   "source": [
    "type(nb_hab[0])"
   ]
  },
  {
   "cell_type": "code",
   "execution_count": 22,
   "metadata": {},
   "outputs": [],
   "source": [
    "c = nb_hab[0] + nb_hab[2]"
   ]
  },
  {
   "cell_type": "code",
   "execution_count": 23,
   "metadata": {},
   "outputs": [
    {
     "name": "stdout",
     "output_type": "stream",
     "text": [
      "996571\n"
     ]
    }
   ],
   "source": [
    "print(c)"
   ]
  },
  {
   "cell_type": "code",
   "execution_count": 24,
   "metadata": {},
   "outputs": [
    {
     "data": {
      "text/plain": [
       "int"
      ]
     },
     "execution_count": 24,
     "metadata": {},
     "output_type": "execute_result"
    }
   ],
   "source": [
    "type(c)"
   ]
  },
  {
   "cell_type": "code",
   "execution_count": 25,
   "metadata": {},
   "outputs": [
    {
     "data": {
      "text/plain": [
       "'996571'"
      ]
     },
     "execution_count": 25,
     "metadata": {},
     "output_type": "execute_result"
    }
   ],
   "source": [
    "str(c)"
   ]
  },
  {
   "cell_type": "code",
   "execution_count": 31,
   "metadata": {},
   "outputs": [
    {
     "name": "stdout",
     "output_type": "stream",
     "text": [
      "True\n"
     ]
    }
   ],
   "source": [
    "print(2 == 2)"
   ]
  },
  {
   "cell_type": "code",
   "execution_count": 32,
   "metadata": {},
   "outputs": [
    {
     "name": "stdout",
     "output_type": "stream",
     "text": [
      "False\n"
     ]
    }
   ],
   "source": [
    "print(5 == 7)"
   ]
  },
  {
   "cell_type": "code",
   "execution_count": 40,
   "metadata": {},
   "outputs": [
    {
     "name": "stdout",
     "output_type": "stream",
     "text": [
      "True\n"
     ]
    }
   ],
   "source": [
    "print (1>=1)"
   ]
  },
  {
   "cell_type": "code",
   "execution_count": 42,
   "metadata": {},
   "outputs": [
    {
     "name": "stdout",
     "output_type": "stream",
     "text": [
      "True\n"
     ]
    }
   ],
   "source": [
    "print('chien' == 'chien')"
   ]
  },
  {
   "cell_type": "code",
   "execution_count": 44,
   "metadata": {},
   "outputs": [],
   "source": [
    "fd = open('departements-fr.csv', 'r', encoding='latin-1')"
   ]
  },
  {
   "cell_type": "code",
   "execution_count": 45,
   "metadata": {},
   "outputs": [],
   "source": [
    "data = fd.read()"
   ]
  },
  {
   "cell_type": "code",
   "execution_count": 46,
   "metadata": {},
   "outputs": [],
   "source": [
    "lst = data.split('\\n')"
   ]
  },
  {
   "cell_type": "code",
   "execution_count": 47,
   "metadata": {},
   "outputs": [],
   "source": [
    "dep = []"
   ]
  },
  {
   "cell_type": "code",
   "execution_count": 50,
   "metadata": {},
   "outputs": [],
   "source": [
    "int_dep = []\n",
    "for row in lst:\n",
    "    value = row.split(',')\n",
    "    int_dep.append(int(value[1]))\n",
    "    dep.append(value[0])\n"
   ]
  },
  {
   "cell_type": "code",
   "execution_count": 51,
   "metadata": {},
   "outputs": [
    {
     "name": "stdout",
     "output_type": "stream",
     "text": [
      "['Ain', 'Aisne', 'Allier', 'Alpes-de-Haute-Provence', 'Alpes-Maritimes', 'Ardèche', 'Ardennes', 'Ariège', 'Aube', 'Aude', 'Aveyron', 'Bas-Rhin', 'Bouches-du-Rhône', 'Calvados', 'Cantal', 'Charente', 'Charente-Maritime', 'Cher', 'Corrèze', 'Corse-du-Sud', \"Côte-d'Or\", \"Côtes-d'Armor\", 'Creuse', 'Deux-Sèvres', 'Dordogne', 'Doubs', 'Drôme', 'Essonne', 'Eure', 'Eure-et-Loir', 'Finistère', 'Gard', 'Gers', 'Gironde', 'Guadeloupe', 'Guyane', 'Haute-Corse', 'Haute-Garonne', 'Haute-Loire', 'Haute-Marne', 'Hautes-Alpes', 'Haute-Saône', 'Haute-Savoie', 'Hautes-Pyrénées', 'Haute-Vienne', 'Haut-Rhin', 'Hauts-de-Seine', 'Hérault', 'Ille-et-Vilaine', 'Indre', 'Indre-et-Loire', 'Isère', 'Jura', 'La Réunion', 'Landes', 'Loire', 'Loire-Atlantique', 'Loiret', 'Loir-et-Cher', 'Lot', 'Lot-et-Garonne', 'Lozère', 'Maine-et-Loire', 'Manche', 'Marne', 'Martinique', 'Mayenne', 'Meurthe-et-Moselle', 'Meuse', 'Morbihan', 'Moselle', 'Nièvre', 'Nord', 'Oise', 'Orne', 'Paris', 'Pas-de-Calais', 'Puy-de-Dôme', 'Pyrénées-Atlantiques', 'Pyrénées-Orientales', 'Rhône', 'Saône-et-Loire', 'Sarthe', 'Savoie', 'Seine-et-Marne', 'Seine-Maritime', 'Seine-Saint-Denis', 'Somme', 'Tarn', 'Tarn-et-Garonne', 'Territoire de Belfort', 'Val-de-Marne', \"Val-d'Oise\", 'Var', 'Vaucluse', 'Vendée', 'Vienne', 'Vosges', 'Yonne', 'Yvelines']\n",
      "[643309, 554040, 353262, 166298, 1098785, 332051, 287775, 158076, 316098, 375065, 289901, 1131812, 2035475, 708407, 152400, 366787, 656046, 318590, 249684, 154100, 545001, 617413, 124948, 384655, 428651, 549155, 514104, 1286908, 616076, 445083, 935393, 752382, 197988, 1556663, 406706, 254845, 175499, 1344579, 234078, 186698, 145213, 246022, 806447, 236577, 384708, 775941, 1617484, 1127333, 1060051, 232802, 619004, 1271938, 270826, 541487, 414090, 774262, 1382766, 688098, 344121, 180016, 343198, 80423, 829156, 518322, 584297, 390252, 317716, 746687, 197763, 764338, 1065894, 221048, 2640622, 838646, 297109, 2243739, 1497668, 661248, 688451, 474842, 1833002, 574229, 583961, 440777, 1400477, 1284107, 1582139, 583641, 396341, 258696, 147647, 1377511, 1221946, 1055745, 566592, 681469, 444347, 386978, 352433, 1449398]\n"
     ]
    }
   ],
   "source": [
    "print(dep)\n",
    "print(int_dep)\n"
   ]
  },
  {
   "cell_type": "code",
   "execution_count": 58,
   "metadata": {},
   "outputs": [
    {
     "name": "stdout",
     "output_type": "stream",
     "text": [
      "False\n"
     ]
    }
   ],
   "source": [
    "print(dep[len(dep)-1] == 'Ain')"
   ]
  },
  {
   "cell_type": "code",
   "execution_count": 72,
   "metadata": {},
   "outputs": [
    {
     "ename": "SyntaxError",
     "evalue": "invalid syntax (<ipython-input-72-f085efd3bbaa>, line 4)",
     "output_type": "error",
     "traceback": [
      "\u001b[0;36m  File \u001b[0;32m\"<ipython-input-72-f085efd3bbaa>\"\u001b[0;36m, line \u001b[0;32m4\u001b[0m\n\u001b[0;31m    i--\u001b[0m\n\u001b[0m       ^\u001b[0m\n\u001b[0;31mSyntaxError\u001b[0m\u001b[0;31m:\u001b[0m invalid syntax\n"
     ]
    }
   ],
   "source": [
    "i = 10\n",
    "while i > 0:\n",
    "    print(\"coucou\")\n",
    "    i--"
   ]
  },
  {
   "cell_type": "code",
   "execution_count": 73,
   "metadata": {},
   "outputs": [
    {
     "name": "stdout",
     "output_type": "stream",
     "text": [
      "bite\n"
     ]
    }
   ],
   "source": [
    "if (dep[5] == 'Ardèche'):\n",
    "    print(\"bite\")"
   ]
  },
  {
   "cell_type": "code",
   "execution_count": 77,
   "metadata": {},
   "outputs": [],
   "source": [
    "find = False\n",
    "\n",
    "for row in dep:\n",
    "    if row == 'Paris':\n",
    "        find = True"
   ]
  },
  {
   "cell_type": "code",
   "execution_count": 78,
   "metadata": {},
   "outputs": [
    {
     "name": "stdout",
     "output_type": "stream",
     "text": [
      "True\n"
     ]
    }
   ],
   "source": [
    "print(find)"
   ]
  },
  {
   "cell_type": "code",
   "execution_count": 84,
   "metadata": {},
   "outputs": [
    {
     "name": "stdout",
     "output_type": "stream",
     "text": [
      "['Ain', 'Aisne', 'Allier', 'Alpes-de-Haute-Provence', 'Alpes-Maritimes', 'Ardèche', 'Ardennes', 'Ariège', 'Aube', 'Aude', 'Aveyron', 'Bas-Rhin', 'Bouches-du-Rhône', 'Calvados', 'Cantal', 'Charente', 'Charente-Maritime', 'Cher', 'Corrèze', 'Corse-du-Sud', \"Côte-d'Or\", \"Côtes-d'Armor\", 'Creuse', 'Deux-Sèvres', 'Dordogne', 'Doubs', 'Drôme', 'Essonne', 'Eure', 'Eure-et-Loir', 'Finistère', 'Gard', 'Gers', 'Gironde', 'Guadeloupe', 'Guyane', 'Haute-Corse', 'Haute-Garonne', 'Haute-Loire', 'Haute-Marne', 'Hautes-Alpes', 'Haute-Saône', 'Haute-Savoie', 'Hautes-Pyrénées', 'Haute-Vienne', 'Haut-Rhin', 'Hauts-de-Seine', 'Hérault', 'Ille-et-Vilaine', 'Indre', 'Indre-et-Loire', 'Isère', 'Jura', 'La Réunion', 'Landes', 'Loire', 'Loire-Atlantique', 'Loiret', 'Loir-et-Cher', 'Lot', 'Lot-et-Garonne', 'Lozère', 'Maine-et-Loire', 'Manche', 'Marne', 'Martinique', 'Mayenne', 'Meurthe-et-Moselle', 'Meuse', 'Morbihan', 'Moselle', 'Nièvre', 'Nord', 'Oise', 'Orne', 'Paris', 'Pas-de-Calais', 'Puy-de-Dôme', 'Pyrénées-Atlantiques', 'Pyrénées-Orientales', 'Rhône', 'Saône-et-Loire', 'Sarthe', 'Savoie', 'Seine-et-Marne', 'Seine-Maritime', 'Seine-Saint-Denis', 'Somme', 'Tarn', 'Tarn-et-Garonne', 'Territoire de Belfort', 'Val-de-Marne', \"Val-d'Oise\", 'Var', 'Vaucluse', 'Vendée', 'Vienne', 'Vosges', 'Yonne', 'Yvelines']\n"
     ]
    }
   ],
   "source": [
    "counter = 0\n",
    "index = 0\n",
    "lst_big_city = []\n",
    "for row in int_dep:\n",
    "    if row > 10000:\n",
    "        lst_big_city.append(dep[index])\n",
    "    index += 1\n",
    "        \n",
    "print(lst_big_city)"
   ]
  },
  {
   "cell_type": "code",
   "execution_count": 94,
   "metadata": {},
   "outputs": [],
   "source": [
    "fd = open('unisex-names.csv', 'r')"
   ]
  },
  {
   "cell_type": "code",
   "execution_count": 95,
   "metadata": {},
   "outputs": [
    {
     "name": "stdout",
     "output_type": "stream",
     "text": [
      "['Casey,176544.328149', 'Riley,154860.665173', 'Jessie,136381.830656', 'Jackie,132928.78874', 'Avery,121797.419516', 'Jaime,109870.18729', 'Peyton,94896.395216', 'Kerry,88963.92625', 'Jody,80400.519199', 'Kendall,79210.873961']\n"
     ]
    }
   ],
   "source": [
    "name = fd.read()\n",
    "lst_name = name.split('\\n')\n",
    "print(lst_name[0:10])"
   ]
  },
  {
   "cell_type": "code",
   "execution_count": 96,
   "metadata": {},
   "outputs": [
    {
     "name": "stdout",
     "output_type": "stream",
     "text": [
      "[['Casey', '176544.328149'], ['Riley', '154860.665173'], ['Jessie', '136381.830656'], ['Jackie', '132928.78874'], ['Avery', '121797.419516']]\n"
     ]
    }
   ],
   "source": [
    "name_data = []\n",
    "\n",
    "for name in lst_name:\n",
    "    tmp = name.split(',')\n",
    "    name_data.append(tmp)\n",
    "print(name_data[0:5])"
   ]
  },
  {
   "cell_type": "code",
   "execution_count": 105,
   "metadata": {},
   "outputs": [
    {
     "name": "stdout",
     "output_type": "stream",
     "text": [
      "[('Casey', 176544.328149), ('Riley', 154860.665173), ('Jessie', 136381.830656), ('Jackie', 132928.78874), ('Avery', 121797.419516), ('Jaime', 109870.18729), ('Peyton', 94896.395216), ('Kerry', 88963.92625), ('Jody', 80400.519199), ('Kendall', 79210.873961), ('Payton', 64151.630388), ('Skyler', 53486.390419), ('Frankie', 51288.068109), ('Pat', 44781.602373), ('Quinn', 41920.940058), ('Harley', 41237.565743), ('Reese', 36360.520613), ('Robbie', 32636.047648), ('Tommie', 29528.793818), ('Justice', 27350.56457), ('Kris', 24955.811342), ('Carey', 24790.097054), ('Emerson', 24167.154361), ('Blair', 23160.101097), ('Amari', 22296.161372), ('Elisha', 22184.559374), ('Sage', 21336.062278), ('Emery', 18844.118877), ('Stevie', 18665.219122), ('Rowan', 18367.420464), ('Ollie', 17889.750339), ('Shea', 16768.89188), ('Jaylin', 15093.192039), ('Phoenix', 14841.367876), ('Charley', 12546.265782), ('Armani', 12541.667755), ('Devyn', 12515.023074), ('Ivory', 11908.580714), ('Kendal', 11841.40348), ('Baby', 11132.855753), ('Mckinley', 10972.533414), ('Finley', 10194.618867), ('Milan', 9971.955937), ('Tory', 9837.844335), ('Shay', 9444.894035), ('Shiloh', 8999.08523), ('Lavern', 8776.346296), ('Sky', 8386.640072), ('Reilly', 8300.824693), ('Leighton', 8281.601797), ('Santana', 7922.713789), ('Arden', 7773.14736), ('Campbell', 7728.956865), ('Channing', 7626.335577), ('Kamari', 7584.893909), ('Alva', 7496.35069), ('Clair', 7148.894728), ('Lavon', 7107.834786), ('Kenyatta', 7063.611274), ('Britt', 6852.95455), ('Vernell', 6729.462903), ('Michal', 6558.698679), ('Austyn', 6228.961465), ('Rian', 6139.851241), ('Dominque', 6101.13501), ('Remy', 6094.667878), ('Jammie', 6013.444775), ('Ricki', 5847.272146), ('Jordin', 5770.788278), ('Trinidad', 5747.944235), ('Ryley', 5685.538724), ('Carrol', 5513.606968), ('Landry', 5449.51046), ('Lorin', 5428.15538), ('Yael', 5232.374916), ('Codi', 4805.328209), ('Sloan', 4796.882097), ('Jael', 4472.71492), ('Kodi', 4428.704313), ('Azariah', 4420.560847), ('Dakotah', 4388.852023), ('Lorenza', 4249.273719), ('Artie', 4230.139897), ('Maxie', 4123.46784), ('Torey', 4058.588974), ('Tai', 4017.916297), ('Kalani', 4012.316123), ('Codie', 3998.816987), ('Storm', 3960.537446), ('Jaedyn', 3913.076884), ('Merritt', 3843.56067), ('Allyn', 3801.332806), ('Jourdan', 3781.556602), ('Yuri', 3774.699243), ('Ellery', 3738.814883), ('Oakley', 3728.798329), ('Gentry', 3703.829157), ('Ellison', 3651.546836), ('Arin', 3634.974321), ('Sol', 3624.980544)]\n"
     ]
    }
   ],
   "source": [
    "name = []\n",
    "nb_name = []\n",
    "\n",
    "for nb in name_data:\n",
    "    tmp1 = nb[0]\n",
    "    tmp = float(nb[1])\n",
    "    tmp_list = (tmp1, tmp)\n",
    "    nb_name.append(tmp_list)\n",
    "print(nb_name[0:100])"
   ]
  },
  {
   "cell_type": "code",
   "execution_count": 110,
   "metadata": {},
   "outputs": [],
   "source": [
    "final_lst = []\n",
    "\n",
    "for row in nb_name:\n",
    "    if row[1] > 100000:\n",
    "        final_lst.append(row[0])"
   ]
  },
  {
   "cell_type": "code",
   "execution_count": 111,
   "metadata": {},
   "outputs": [
    {
     "name": "stdout",
     "output_type": "stream",
     "text": [
      "['Casey', 'Riley', 'Jessie', 'Jackie', 'Avery', 'Jaime']\n"
     ]
    }
   ],
   "source": [
    "print(final_lst[0:10])"
   ]
  },
  {
   "cell_type": "code",
   "execution_count": 122,
   "metadata": {},
   "outputs": [],
   "source": [
    "fd = open('madrid-weather-2016.csv', 'r', encoding='latin-1')"
   ]
  },
  {
   "cell_type": "code",
   "execution_count": 123,
   "metadata": {},
   "outputs": [
    {
     "name": "stdout",
     "output_type": "stream",
     "text": [
      "[['Jour', 'Climat'], ['1', 'Soleil'], ['2', 'Soleil'], ['3', 'Soleil'], ['4', 'Soleil'], ['5', 'Soleil'], ['6', 'Pluie'], ['7', 'Soleil'], ['8', 'Soleil'], ['9', 'Nuage'], ['10', 'Pluie'], ['11', 'Soleil'], ['12', 'Soleil'], ['13', 'Soleil'], ['14', 'Soleil'], ['15', 'Soleil'], ['16', 'Nuage'], ['17', 'Soleil'], ['18', 'Soleil'], ['19', 'Soleil'], ['20', 'Soleil'], ['21', 'Soleil'], ['22', 'Soleil'], ['23', 'Pluie'], ['24', 'Nuage-Pluie'], ['25', 'Pluie'], ['26', 'Nuage-Pluie'], ['27', 'Pluie'], ['28', 'Soleil'], ['29', 'Soleil'], ['30', 'Soleil'], ['31', 'Soleil'], ['32', 'Soleil'], ['33', 'Pluie'], ['34', 'Soleil'], ['35', 'Nuage'], ['36', 'Nuage'], ['37', 'Soleil'], ['38', 'Soleil'], ['39', 'Pluie'], ['40', 'Soleil'], ['41', 'Soleil'], ['42', 'Soleil'], ['43', 'Soleil'], ['44', 'Soleil'], ['45', 'Nuage'], ['46', 'Soleil'], ['47', 'Soleil'], ['48', 'Nuage'], ['49', 'Soleil'], ['50', 'Pluie'], ['51', 'Soleil'], ['52', 'Soleil'], ['53', 'Soleil'], ['54', 'Soleil'], ['55', 'Soleil'], ['56', 'Soleil'], ['57', 'Soleil'], ['58', 'Soleil'], ['59', 'Soleil'], ['60', 'Soleil'], ['61', 'Soleil'], ['62', 'Pluie'], ['63', 'Nuage'], ['64', 'Nuage'], ['65', 'Soleil'], ['66', 'Pluie'], ['67', 'Pluie'], ['68', 'Soleil'], ['69', 'Soleil'], ['70', 'Soleil'], ['71', 'Nuage'], ['72', 'Nuage'], ['73', 'Nuage'], ['74', 'Nuage'], ['75', 'Nuage'], ['76', 'Soleil'], ['77', 'Soleil'], ['78', 'Soleil'], ['79', 'Soleil'], ['80', 'Soleil'], ['81', 'Nuage'], ['82', 'Soleil'], ['83', 'Soleil'], ['84', 'Nuage'], ['85', 'Soleil'], ['86', 'Nuage'], ['87', 'Nuage'], ['88', 'Nuage'], ['89', 'Nuage'], ['90', 'Pluie'], ['91', 'Soleil'], ['92', 'Nuage'], ['93', 'Nuage'], ['94', 'Nuage'], ['95', 'Soleil'], ['96', 'Soleil'], ['97', 'Soleil'], ['98', 'Soleil'], ['99', 'Nuage'], ['100', 'Soleil'], ['101', 'Soleil'], ['102', 'Soleil'], ['103', 'Soleil'], ['104', 'Soleil'], ['105', 'Pluie'], ['106', 'Soleil'], ['107', 'Soleil'], ['108', 'Soleil'], ['109', 'Soleil'], ['110', 'Nuage'], ['111', 'Nuage'], ['112', 'Nuage'], ['113', 'Soleil'], ['114', 'Pluie'], ['115', 'Soleil'], ['116', 'Soleil'], ['117', 'Soleil'], ['118', 'Nuage'], ['119', 'Nuage'], ['120', 'Soleil'], ['121', 'Soleil'], ['122', 'Nuage'], ['123', 'Soleil'], ['124', 'Soleil'], ['125', 'Pluie'], ['126', 'Pluie'], ['127', 'Pluie'], ['128', 'Soleil'], ['129', 'Orage'], ['130', 'Nuage'], ['131', 'Soleil'], ['132', 'Nuage'], ['133', 'Soleil'], ['134', 'Nuage'], ['135', 'Nuage'], ['136', 'Soleil'], ['137', 'Soleil'], ['138', 'Soleil'], ['139', 'Soleil'], ['140', 'Nuage'], ['141', 'Nuage'], ['142', 'Soleil'], ['143', 'Soleil'], ['144', 'Soleil'], ['145', 'Soleil'], ['146', 'Soleil'], ['147', 'Soleil'], ['148', 'Soleil'], ['149', 'Nuage'], ['150', 'Nuage'], ['151', 'Soleil'], ['152', 'Soleil'], ['153', 'Soleil'], ['154', 'Soleil'], ['155', 'Soleil'], ['156', 'Soleil'], ['157', 'Nuage'], ['158', 'Nuage'], ['159', 'Soleil'], ['160', 'Soleil'], ['161', 'Soleil'], ['162', 'Soleil'], ['163', 'Nuage'], ['164', 'Nuage'], ['165', 'Nuage'], ['166', 'Soleil'], ['167', 'Soleil'], ['168', 'Nuage'], ['169', 'Nuage'], ['170', 'Nuage'], ['171', 'Soleil'], ['172', 'Soleil'], ['173', 'Soleil'], ['174', 'Soleil'], ['175', 'Soleil'], ['176', 'Nuage'], ['177', 'Nuage'], ['178', 'Nuage'], ['179', 'Nuage'], ['180', 'Nuage'], ['181', 'Soleil'], ['182', 'Nuage'], ['183', 'Nuage'], ['184', 'Nuage'], ['185', 'Nuage'], ['186', 'Soleil'], ['187', 'Soleil'], ['188', 'Soleil'], ['189', 'Soleil'], ['190', 'Nuage'], ['191', 'Soleil'], ['192', 'Nuage-Pluie'], ['193', 'Nuage'], ['194', 'Nuage'], ['195', 'Soleil'], ['196', 'Nuage'], ['197', 'Soleil'], ['198', 'Nuage'], ['199', 'Nuage'], ['200', 'Nuage'], ['201', 'Soleil'], ['202', 'Pluie'], ['203', 'Nuage'], ['204', 'Nuage'], ['205', 'Nuage'], ['206', 'Nuage'], ['207', 'Nuage-Pluie'], ['208', 'Soleil'], ['209', 'Soleil'], ['210', 'Nuage'], ['211', 'Soleil'], ['212', 'Soleil'], ['213', 'Nuage'], ['214', 'Nuage'], ['215', 'Soleil'], ['216', 'Soleil'], ['217', 'Nuage'], ['218', 'Nuage'], ['219', 'Nuage'], ['220', 'Soleil'], ['221', 'Soleil'], ['222', 'Soleil'], ['223', 'Soleil'], ['224', 'Nuage'], ['225', 'Nuage'], ['226', 'Nuage'], ['227', 'Nuage'], ['228', 'Nuage'], ['229', 'Nuage'], ['230', 'Nuage'], ['231', 'Nuage'], ['232', 'Nuage'], ['233', 'Nuage'], ['234', 'Soleil'], ['235', 'Nuage'], ['236', 'Nuage'], ['237', 'Nuage'], ['238', 'Nuage'], ['239', 'Soleil'], ['240', 'Nuage'], ['241', 'Nuage'], ['242', 'Nuage'], ['243', 'Soleil'], ['244', 'Soleil'], ['245', 'Nuage'], ['246', 'Soleil'], ['247', 'Nuage'], ['248', 'Nuage'], ['249', 'Soleil'], ['250', 'Soleil'], ['251', 'Nuage'], ['252', 'Nuage'], ['253', 'Nuage'], ['254', 'Soleil'], ['255', 'Soleil'], ['256', 'Nuage'], ['257', 'Nuage'], ['258', 'Soleil'], ['259', 'Nuage'], ['260', 'Nuage'], ['261', 'Nuage'], ['262', 'Nuage'], ['263', 'Nuage'], ['264', 'Soleil'], ['265', 'Soleil'], ['266', 'Soleil'], ['267', 'Nuage'], ['268', 'Soleil'], ['269', 'Soleil'], ['270', 'Soleil'], ['271', 'Soleil'], ['272', 'Soleil'], ['273', 'Soleil'], ['274', 'Nuage'], ['275', 'Soleil'], ['276', 'Nuage'], ['277', 'Soleil'], ['278', 'Soleil'], ['279', 'Soleil'], ['280', 'Soleil'], ['281', 'Nuage'], ['282', 'Pluie'], ['283', 'Soleil'], ['284', 'Soleil'], ['285', 'Soleil'], ['286', 'Soleil'], ['287', 'Soleil'], ['288', 'Soleil'], ['289', 'Soleil'], ['290', 'Soleil'], ['291', 'Soleil'], ['292', 'Nuage'], ['293', 'Nuage'], ['294', 'Nuage'], ['295', 'Nuage'], ['296', 'Soleil'], ['297', 'Soleil'], ['298', 'Nuage'], ['299', 'Nuage'], ['300', 'Nuage'], ['301', 'Soleil'], ['302', 'Soleil'], ['303', 'Soleil'], ['304', 'Soleil'], ['305', 'Soleil'], ['306', 'Soleil'], ['307', 'Soleil'], ['308', 'Soleil'], ['309', 'Nuage'], ['310', 'Soleil'], ['311', 'Soleil'], ['312', 'Nuage'], ['313', 'Nuage'], ['314', 'Soleil'], ['315', 'Nuage'], ['316', 'Nuage'], ['317', 'Soleil'], ['318', 'Soleil'], ['319', 'Nuage'], ['320', 'Soleil'], ['321', 'Soleil'], ['322', 'Nuage'], ['323', 'Soleil'], ['324', 'Pluie'], ['325', 'Pluie'], ['326', 'Pluie'], ['327', 'Soleil'], ['328', 'Soleil'], ['329', 'Soleil'], ['330', 'Soleil'], ['331', 'Soleil'], ['332', 'Soleil'], ['333', 'Pluie'], ['334', 'Soleil'], ['335', 'Soleil'], ['336', 'Soleil'], ['337', 'Soleil'], ['338', 'Soleil'], ['339', 'Soleil'], ['340', 'Soleil'], ['341', 'Pluie'], ['342', 'Soleil'], ['343', 'Soleil'], ['344', 'Soleil'], ['345', 'Soleil'], ['346', 'Nuage'], ['347', 'Nuage'], ['348', 'Soleil'], ['349', 'Soleil'], ['350', 'Soleil'], ['351', 'Soleil'], ['352', 'Soleil'], ['353', 'Pluie'], ['354', 'Soleil'], ['355', 'Soleil'], ['356', 'Soleil'], ['357', 'Nuage'], ['358', 'Soleil'], ['359', 'Soleil'], ['360', 'Soleil'], ['361', 'Soleil'], ['362', 'Soleil'], ['363', 'Nuage'], ['364', 'Nuage'], ['365', 'Nuage']]\n"
     ]
    }
   ],
   "source": [
    "data = fd.read()\n",
    "rows = data.split('\\n')\n",
    "weather = []\n",
    "\n",
    "for row in rows:\n",
    "    slip_row = row.split(',')\n",
    "    weather.append(slip_row)\n",
    "print(weather)"
   ]
  },
  {
   "cell_type": "code",
   "execution_count": 124,
   "metadata": {},
   "outputs": [
    {
     "name": "stdout",
     "output_type": "stream",
     "text": [
      "366\n"
     ]
    }
   ],
   "source": [
    "count = 0\n",
    "\n",
    "for item in weather:\n",
    "    count += 1\n",
    "print(count)"
   ]
  },
  {
   "cell_type": "code",
   "execution_count": 125,
   "metadata": {},
   "outputs": [
    {
     "name": "stdout",
     "output_type": "stream",
     "text": [
      "366\n"
     ]
    }
   ],
   "source": [
    "print(len(weather))"
   ]
  },
  {
   "cell_type": "code",
   "execution_count": 126,
   "metadata": {},
   "outputs": [
    {
     "name": "stdout",
     "output_type": "stream",
     "text": [
      "[['1', 'Soleil'], ['2', 'Soleil'], ['3', 'Soleil'], ['4', 'Soleil'], ['5', 'Soleil'], ['6', 'Pluie'], ['7', 'Soleil'], ['8', 'Soleil'], ['9', 'Nuage'], ['10', 'Pluie'], ['11', 'Soleil'], ['12', 'Soleil'], ['13', 'Soleil'], ['14', 'Soleil'], ['15', 'Soleil'], ['16', 'Nuage'], ['17', 'Soleil'], ['18', 'Soleil'], ['19', 'Soleil'], ['20', 'Soleil'], ['21', 'Soleil'], ['22', 'Soleil'], ['23', 'Pluie'], ['24', 'Nuage-Pluie'], ['25', 'Pluie'], ['26', 'Nuage-Pluie'], ['27', 'Pluie'], ['28', 'Soleil'], ['29', 'Soleil'], ['30', 'Soleil'], ['31', 'Soleil'], ['32', 'Soleil'], ['33', 'Pluie'], ['34', 'Soleil'], ['35', 'Nuage'], ['36', 'Nuage'], ['37', 'Soleil'], ['38', 'Soleil'], ['39', 'Pluie'], ['40', 'Soleil'], ['41', 'Soleil'], ['42', 'Soleil'], ['43', 'Soleil'], ['44', 'Soleil'], ['45', 'Nuage'], ['46', 'Soleil'], ['47', 'Soleil'], ['48', 'Nuage'], ['49', 'Soleil'], ['50', 'Pluie'], ['51', 'Soleil'], ['52', 'Soleil'], ['53', 'Soleil'], ['54', 'Soleil'], ['55', 'Soleil'], ['56', 'Soleil'], ['57', 'Soleil'], ['58', 'Soleil'], ['59', 'Soleil'], ['60', 'Soleil'], ['61', 'Soleil'], ['62', 'Pluie'], ['63', 'Nuage'], ['64', 'Nuage'], ['65', 'Soleil'], ['66', 'Pluie'], ['67', 'Pluie'], ['68', 'Soleil'], ['69', 'Soleil'], ['70', 'Soleil'], ['71', 'Nuage'], ['72', 'Nuage'], ['73', 'Nuage'], ['74', 'Nuage'], ['75', 'Nuage'], ['76', 'Soleil'], ['77', 'Soleil'], ['78', 'Soleil'], ['79', 'Soleil'], ['80', 'Soleil'], ['81', 'Nuage'], ['82', 'Soleil'], ['83', 'Soleil'], ['84', 'Nuage'], ['85', 'Soleil'], ['86', 'Nuage'], ['87', 'Nuage'], ['88', 'Nuage'], ['89', 'Nuage'], ['90', 'Pluie'], ['91', 'Soleil'], ['92', 'Nuage'], ['93', 'Nuage'], ['94', 'Nuage'], ['95', 'Soleil'], ['96', 'Soleil'], ['97', 'Soleil'], ['98', 'Soleil'], ['99', 'Nuage'], ['100', 'Soleil'], ['101', 'Soleil'], ['102', 'Soleil'], ['103', 'Soleil'], ['104', 'Soleil'], ['105', 'Pluie'], ['106', 'Soleil'], ['107', 'Soleil'], ['108', 'Soleil'], ['109', 'Soleil'], ['110', 'Nuage'], ['111', 'Nuage'], ['112', 'Nuage'], ['113', 'Soleil'], ['114', 'Pluie'], ['115', 'Soleil'], ['116', 'Soleil'], ['117', 'Soleil'], ['118', 'Nuage'], ['119', 'Nuage'], ['120', 'Soleil'], ['121', 'Soleil'], ['122', 'Nuage'], ['123', 'Soleil'], ['124', 'Soleil'], ['125', 'Pluie'], ['126', 'Pluie'], ['127', 'Pluie'], ['128', 'Soleil'], ['129', 'Orage'], ['130', 'Nuage'], ['131', 'Soleil'], ['132', 'Nuage'], ['133', 'Soleil'], ['134', 'Nuage'], ['135', 'Nuage'], ['136', 'Soleil'], ['137', 'Soleil'], ['138', 'Soleil'], ['139', 'Soleil'], ['140', 'Nuage'], ['141', 'Nuage'], ['142', 'Soleil'], ['143', 'Soleil'], ['144', 'Soleil'], ['145', 'Soleil'], ['146', 'Soleil'], ['147', 'Soleil'], ['148', 'Soleil'], ['149', 'Nuage'], ['150', 'Nuage'], ['151', 'Soleil'], ['152', 'Soleil'], ['153', 'Soleil'], ['154', 'Soleil'], ['155', 'Soleil'], ['156', 'Soleil'], ['157', 'Nuage'], ['158', 'Nuage'], ['159', 'Soleil'], ['160', 'Soleil'], ['161', 'Soleil'], ['162', 'Soleil'], ['163', 'Nuage'], ['164', 'Nuage'], ['165', 'Nuage'], ['166', 'Soleil'], ['167', 'Soleil'], ['168', 'Nuage'], ['169', 'Nuage'], ['170', 'Nuage'], ['171', 'Soleil'], ['172', 'Soleil'], ['173', 'Soleil'], ['174', 'Soleil'], ['175', 'Soleil'], ['176', 'Nuage'], ['177', 'Nuage'], ['178', 'Nuage'], ['179', 'Nuage'], ['180', 'Nuage'], ['181', 'Soleil'], ['182', 'Nuage'], ['183', 'Nuage'], ['184', 'Nuage'], ['185', 'Nuage'], ['186', 'Soleil'], ['187', 'Soleil'], ['188', 'Soleil'], ['189', 'Soleil'], ['190', 'Nuage'], ['191', 'Soleil'], ['192', 'Nuage-Pluie'], ['193', 'Nuage'], ['194', 'Nuage'], ['195', 'Soleil'], ['196', 'Nuage'], ['197', 'Soleil'], ['198', 'Nuage'], ['199', 'Nuage'], ['200', 'Nuage'], ['201', 'Soleil'], ['202', 'Pluie'], ['203', 'Nuage'], ['204', 'Nuage'], ['205', 'Nuage'], ['206', 'Nuage'], ['207', 'Nuage-Pluie'], ['208', 'Soleil'], ['209', 'Soleil'], ['210', 'Nuage'], ['211', 'Soleil'], ['212', 'Soleil'], ['213', 'Nuage'], ['214', 'Nuage'], ['215', 'Soleil'], ['216', 'Soleil'], ['217', 'Nuage'], ['218', 'Nuage'], ['219', 'Nuage'], ['220', 'Soleil'], ['221', 'Soleil'], ['222', 'Soleil'], ['223', 'Soleil'], ['224', 'Nuage'], ['225', 'Nuage'], ['226', 'Nuage'], ['227', 'Nuage'], ['228', 'Nuage'], ['229', 'Nuage'], ['230', 'Nuage'], ['231', 'Nuage'], ['232', 'Nuage'], ['233', 'Nuage'], ['234', 'Soleil'], ['235', 'Nuage'], ['236', 'Nuage'], ['237', 'Nuage'], ['238', 'Nuage'], ['239', 'Soleil'], ['240', 'Nuage'], ['241', 'Nuage'], ['242', 'Nuage'], ['243', 'Soleil'], ['244', 'Soleil'], ['245', 'Nuage'], ['246', 'Soleil'], ['247', 'Nuage'], ['248', 'Nuage'], ['249', 'Soleil'], ['250', 'Soleil'], ['251', 'Nuage'], ['252', 'Nuage'], ['253', 'Nuage'], ['254', 'Soleil'], ['255', 'Soleil'], ['256', 'Nuage'], ['257', 'Nuage'], ['258', 'Soleil'], ['259', 'Nuage'], ['260', 'Nuage'], ['261', 'Nuage'], ['262', 'Nuage'], ['263', 'Nuage'], ['264', 'Soleil'], ['265', 'Soleil'], ['266', 'Soleil'], ['267', 'Nuage'], ['268', 'Soleil'], ['269', 'Soleil'], ['270', 'Soleil'], ['271', 'Soleil'], ['272', 'Soleil'], ['273', 'Soleil'], ['274', 'Nuage'], ['275', 'Soleil'], ['276', 'Nuage'], ['277', 'Soleil'], ['278', 'Soleil'], ['279', 'Soleil'], ['280', 'Soleil'], ['281', 'Nuage'], ['282', 'Pluie'], ['283', 'Soleil'], ['284', 'Soleil'], ['285', 'Soleil'], ['286', 'Soleil'], ['287', 'Soleil'], ['288', 'Soleil'], ['289', 'Soleil'], ['290', 'Soleil'], ['291', 'Soleil'], ['292', 'Nuage'], ['293', 'Nuage'], ['294', 'Nuage'], ['295', 'Nuage'], ['296', 'Soleil'], ['297', 'Soleil'], ['298', 'Nuage'], ['299', 'Nuage'], ['300', 'Nuage'], ['301', 'Soleil'], ['302', 'Soleil'], ['303', 'Soleil'], ['304', 'Soleil'], ['305', 'Soleil'], ['306', 'Soleil'], ['307', 'Soleil'], ['308', 'Soleil'], ['309', 'Nuage'], ['310', 'Soleil'], ['311', 'Soleil'], ['312', 'Nuage'], ['313', 'Nuage'], ['314', 'Soleil'], ['315', 'Nuage'], ['316', 'Nuage'], ['317', 'Soleil'], ['318', 'Soleil'], ['319', 'Nuage'], ['320', 'Soleil'], ['321', 'Soleil'], ['322', 'Nuage'], ['323', 'Soleil'], ['324', 'Pluie'], ['325', 'Pluie'], ['326', 'Pluie'], ['327', 'Soleil'], ['328', 'Soleil'], ['329', 'Soleil'], ['330', 'Soleil'], ['331', 'Soleil'], ['332', 'Soleil'], ['333', 'Pluie'], ['334', 'Soleil'], ['335', 'Soleil'], ['336', 'Soleil'], ['337', 'Soleil'], ['338', 'Soleil'], ['339', 'Soleil'], ['340', 'Soleil'], ['341', 'Pluie'], ['342', 'Soleil'], ['343', 'Soleil'], ['344', 'Soleil'], ['345', 'Soleil'], ['346', 'Nuage'], ['347', 'Nuage'], ['348', 'Soleil'], ['349', 'Soleil'], ['350', 'Soleil'], ['351', 'Soleil'], ['352', 'Soleil'], ['353', 'Pluie'], ['354', 'Soleil'], ['355', 'Soleil'], ['356', 'Soleil'], ['357', 'Nuage'], ['358', 'Soleil'], ['359', 'Soleil'], ['360', 'Soleil'], ['361', 'Soleil'], ['362', 'Soleil'], ['363', 'Nuage'], ['364', 'Nuage'], ['365', 'Nuage']]\n"
     ]
    }
   ],
   "source": [
    "new_w = weather[1:366]\n",
    "print(new_w)"
   ]
  },
  {
   "cell_type": "code",
   "execution_count": 127,
   "metadata": {},
   "outputs": [
    {
     "name": "stdout",
     "output_type": "stream",
     "text": [
      "365\n"
     ]
    }
   ],
   "source": [
    "print(len(new_w))"
   ]
  },
  {
   "cell_type": "code",
   "execution_count": 134,
   "metadata": {},
   "outputs": [
    {
     "name": "stdout",
     "output_type": "stream",
     "text": [
      "['Soleil', 'Soleil', 'Soleil', 'Soleil', 'Soleil', 'Pluie', 'Soleil', 'Soleil', 'Nuage', 'Pluie', 'Soleil', 'Soleil', 'Soleil', 'Soleil', 'Soleil', 'Nuage', 'Soleil', 'Soleil', 'Soleil', 'Soleil', 'Soleil', 'Soleil', 'Pluie', 'Nuage-Pluie', 'Pluie', 'Nuage-Pluie', 'Pluie', 'Soleil', 'Soleil', 'Soleil', 'Soleil', 'Soleil', 'Pluie', 'Soleil', 'Nuage', 'Nuage', 'Soleil', 'Soleil', 'Pluie', 'Soleil', 'Soleil', 'Soleil', 'Soleil', 'Soleil', 'Nuage', 'Soleil', 'Soleil', 'Nuage', 'Soleil', 'Pluie', 'Soleil', 'Soleil', 'Soleil', 'Soleil', 'Soleil', 'Soleil', 'Soleil', 'Soleil', 'Soleil', 'Soleil', 'Soleil', 'Pluie', 'Nuage', 'Nuage', 'Soleil', 'Pluie', 'Pluie', 'Soleil', 'Soleil', 'Soleil', 'Nuage', 'Nuage', 'Nuage', 'Nuage', 'Nuage', 'Soleil', 'Soleil', 'Soleil', 'Soleil', 'Soleil', 'Nuage', 'Soleil', 'Soleil', 'Nuage', 'Soleil', 'Nuage', 'Nuage', 'Nuage', 'Nuage', 'Pluie', 'Soleil', 'Nuage', 'Nuage', 'Nuage', 'Soleil', 'Soleil', 'Soleil', 'Soleil', 'Nuage', 'Soleil', 'Soleil', 'Soleil', 'Soleil', 'Soleil', 'Pluie', 'Soleil', 'Soleil', 'Soleil', 'Soleil', 'Nuage', 'Nuage', 'Nuage', 'Soleil', 'Pluie', 'Soleil', 'Soleil', 'Soleil', 'Nuage', 'Nuage', 'Soleil', 'Soleil', 'Nuage', 'Soleil', 'Soleil', 'Pluie', 'Pluie', 'Pluie', 'Soleil', 'Orage', 'Nuage', 'Soleil', 'Nuage', 'Soleil', 'Nuage', 'Nuage', 'Soleil', 'Soleil', 'Soleil', 'Soleil', 'Nuage', 'Nuage', 'Soleil', 'Soleil', 'Soleil', 'Soleil', 'Soleil', 'Soleil', 'Soleil', 'Nuage', 'Nuage', 'Soleil', 'Soleil', 'Soleil', 'Soleil', 'Soleil', 'Soleil', 'Nuage', 'Nuage', 'Soleil', 'Soleil', 'Soleil', 'Soleil', 'Nuage', 'Nuage', 'Nuage', 'Soleil', 'Soleil', 'Nuage', 'Nuage', 'Nuage', 'Soleil', 'Soleil', 'Soleil', 'Soleil', 'Soleil', 'Nuage', 'Nuage', 'Nuage', 'Nuage', 'Nuage', 'Soleil', 'Nuage', 'Nuage', 'Nuage', 'Nuage', 'Soleil', 'Soleil', 'Soleil', 'Soleil', 'Nuage', 'Soleil', 'Nuage-Pluie', 'Nuage', 'Nuage', 'Soleil', 'Nuage', 'Soleil', 'Nuage', 'Nuage', 'Nuage', 'Soleil', 'Pluie', 'Nuage', 'Nuage', 'Nuage', 'Nuage', 'Nuage-Pluie', 'Soleil', 'Soleil', 'Nuage', 'Soleil', 'Soleil', 'Nuage', 'Nuage', 'Soleil', 'Soleil', 'Nuage', 'Nuage', 'Nuage', 'Soleil', 'Soleil', 'Soleil', 'Soleil', 'Nuage', 'Nuage', 'Nuage', 'Nuage', 'Nuage', 'Nuage', 'Nuage', 'Nuage', 'Nuage', 'Nuage', 'Soleil', 'Nuage', 'Nuage', 'Nuage', 'Nuage', 'Soleil', 'Nuage', 'Nuage', 'Nuage', 'Soleil', 'Soleil', 'Nuage', 'Soleil', 'Nuage', 'Nuage', 'Soleil', 'Soleil', 'Nuage', 'Nuage', 'Nuage', 'Soleil', 'Soleil', 'Nuage', 'Nuage', 'Soleil', 'Nuage', 'Nuage', 'Nuage', 'Nuage', 'Nuage', 'Soleil', 'Soleil', 'Soleil', 'Nuage', 'Soleil', 'Soleil', 'Soleil', 'Soleil', 'Soleil', 'Soleil', 'Nuage', 'Soleil', 'Nuage', 'Soleil', 'Soleil', 'Soleil', 'Soleil', 'Nuage', 'Pluie', 'Soleil', 'Soleil', 'Soleil', 'Soleil', 'Soleil', 'Soleil', 'Soleil', 'Soleil', 'Soleil', 'Nuage', 'Nuage', 'Nuage', 'Nuage', 'Soleil', 'Soleil', 'Nuage', 'Nuage', 'Nuage', 'Soleil', 'Soleil', 'Soleil', 'Soleil', 'Soleil', 'Soleil', 'Soleil', 'Soleil', 'Nuage', 'Soleil', 'Soleil', 'Nuage', 'Nuage', 'Soleil', 'Nuage', 'Nuage', 'Soleil', 'Soleil', 'Nuage', 'Soleil', 'Soleil', 'Nuage', 'Soleil', 'Pluie', 'Pluie', 'Pluie', 'Soleil', 'Soleil', 'Soleil', 'Soleil', 'Soleil', 'Soleil', 'Pluie', 'Soleil', 'Soleil', 'Soleil', 'Soleil', 'Soleil', 'Soleil', 'Soleil', 'Pluie', 'Soleil', 'Soleil', 'Soleil', 'Soleil', 'Nuage', 'Nuage', 'Soleil', 'Soleil', 'Soleil', 'Soleil', 'Soleil', 'Pluie', 'Soleil', 'Soleil', 'Soleil', 'Nuage', 'Soleil', 'Soleil', 'Soleil', 'Soleil', 'Soleil', 'Nuage', 'Nuage', 'Nuage']\n"
     ]
    }
   ],
   "source": [
    "cli = []\n",
    "\n",
    "for row in new_w:\n",
    "    cli.append(row[1])\n",
    "print(cli)"
   ]
  },
  {
   "cell_type": "code",
   "execution_count": 140,
   "metadata": {},
   "outputs": [
    {
     "name": "stdout",
     "output_type": "stream",
     "text": [
      "10\n"
     ]
    }
   ],
   "source": [
    "stud = [\"a\", \"b\", 'c', 'd']\n",
    "moy = [12, 10, 13, 14]\n",
    "\n",
    "index = [0, 1, 2, 3]\n",
    "name = \"b\"\n",
    "sc = 0\n",
    "\n",
    "for i in index:\n",
    "    if stud[i] == name:\n",
    "        sc = moy[i]\n",
    "print(sc)"
   ]
  },
  {
   "cell_type": "code",
   "execution_count": 141,
   "metadata": {},
   "outputs": [
    {
     "name": "stdout",
     "output_type": "stream",
     "text": [
      "{'nina': 14}\n"
     ]
    }
   ],
   "source": [
    "sc = {}\n",
    "sc['nina']=14\n",
    "print(sc)"
   ]
  },
  {
   "cell_type": "code",
   "execution_count": 143,
   "metadata": {},
   "outputs": [
    {
     "name": "stdout",
     "output_type": "stream",
     "text": [
      "{'nina': 15}\n"
     ]
    }
   ],
   "source": [
    "sc['nina'] = 15\n",
    "print(sc)"
   ]
  },
  {
   "cell_type": "code",
   "execution_count": 144,
   "metadata": {},
   "outputs": [
    {
     "ename": "AttributeError",
     "evalue": "'dict' object has no attribute 'append'",
     "output_type": "error",
     "traceback": [
      "\u001b[0;31m---------------------------------------------------------------------------\u001b[0m",
      "\u001b[0;31mAttributeError\u001b[0m                            Traceback (most recent call last)",
      "\u001b[0;32m<ipython-input-144-1a4d7260f517>\u001b[0m in \u001b[0;36m<module>\u001b[0;34m\u001b[0m\n\u001b[0;32m----> 1\u001b[0;31m \u001b[0msc\u001b[0m\u001b[0;34m.\u001b[0m\u001b[0mappend\u001b[0m\u001b[0;34m(\u001b[0m\u001b[0;34m'mama'\u001b[0m\u001b[0;34m,\u001b[0m \u001b[0;36m44\u001b[0m\u001b[0;34m)\u001b[0m\u001b[0;34m\u001b[0m\u001b[0m\n\u001b[0m",
      "\u001b[0;31mAttributeError\u001b[0m: 'dict' object has no attribute 'append'"
     ]
    }
   ],
   "source": [
    "sc.append('mama', 44)"
   ]
  },
  {
   "cell_type": "code",
   "execution_count": 145,
   "metadata": {},
   "outputs": [
    {
     "data": {
      "text/plain": [
       "{'nina': 15}"
      ]
     },
     "execution_count": 145,
     "metadata": {},
     "output_type": "execute_result"
    }
   ],
   "source": [
    "sc"
   ]
  },
  {
   "cell_type": "code",
   "execution_count": 147,
   "metadata": {},
   "outputs": [],
   "source": [
    "sc['lili'] = 90"
   ]
  },
  {
   "cell_type": "code",
   "execution_count": 148,
   "metadata": {},
   "outputs": [
    {
     "data": {
      "text/plain": [
       "{'nina': 15, 'lili': 90}"
      ]
     },
     "execution_count": 148,
     "metadata": {},
     "output_type": "execute_result"
    }
   ],
   "source": [
    "sc"
   ]
  },
  {
   "cell_type": "code",
   "execution_count": 149,
   "metadata": {},
   "outputs": [],
   "source": [
    "sc['nina'] += 2"
   ]
  },
  {
   "cell_type": "code",
   "execution_count": 150,
   "metadata": {},
   "outputs": [
    {
     "data": {
      "text/plain": [
       "{'nina': 17, 'lili': 90}"
      ]
     },
     "execution_count": 150,
     "metadata": {},
     "output_type": "execute_result"
    }
   ],
   "source": [
    "sc"
   ]
  },
  {
   "cell_type": "code",
   "execution_count": 152,
   "metadata": {},
   "outputs": [],
   "source": [
    "foun = 'nina' in sc"
   ]
  },
  {
   "cell_type": "code",
   "execution_count": 153,
   "metadata": {},
   "outputs": [
    {
     "name": "stdout",
     "output_type": "stream",
     "text": [
      "True\n"
     ]
    }
   ],
   "source": [
    "print(foun)"
   ]
  },
  {
   "cell_type": "code",
   "execution_count": 159,
   "metadata": {},
   "outputs": [
    {
     "name": "stdout",
     "output_type": "stream",
     "text": [
      "{'citron': 0, 'banane': 1, 'pomme': 1}\n"
     ]
    }
   ],
   "source": [
    "fruit = ['citron', 'banane', 'pomme', 'pomme', 'banane']\n",
    "fruit_d = {}\n",
    "\n",
    "for i in fruit:\n",
    "    if i in fruit_d:\n",
    "        fruit_d[i] =+ 1\n",
    "    else:\n",
    "        fruit_d[i] = 0\n",
    "print(fruit_d)"
   ]
  },
  {
   "cell_type": "code",
   "execution_count": 160,
   "metadata": {},
   "outputs": [
    {
     "name": "stdout",
     "output_type": "stream",
     "text": [
      "[['1', 'Soleil'], ['2', 'Soleil'], ['3', 'Soleil'], ['4', 'Soleil'], ['5', 'Soleil'], ['6', 'Pluie'], ['7', 'Soleil'], ['8', 'Soleil'], ['9', 'Nuage'], ['10', 'Pluie'], ['11', 'Soleil'], ['12', 'Soleil'], ['13', 'Soleil'], ['14', 'Soleil'], ['15', 'Soleil'], ['16', 'Nuage'], ['17', 'Soleil'], ['18', 'Soleil'], ['19', 'Soleil'], ['20', 'Soleil'], ['21', 'Soleil'], ['22', 'Soleil'], ['23', 'Pluie'], ['24', 'Nuage-Pluie'], ['25', 'Pluie'], ['26', 'Nuage-Pluie'], ['27', 'Pluie'], ['28', 'Soleil'], ['29', 'Soleil'], ['30', 'Soleil'], ['31', 'Soleil'], ['32', 'Soleil'], ['33', 'Pluie'], ['34', 'Soleil'], ['35', 'Nuage'], ['36', 'Nuage'], ['37', 'Soleil'], ['38', 'Soleil'], ['39', 'Pluie'], ['40', 'Soleil'], ['41', 'Soleil'], ['42', 'Soleil'], ['43', 'Soleil'], ['44', 'Soleil'], ['45', 'Nuage'], ['46', 'Soleil'], ['47', 'Soleil'], ['48', 'Nuage'], ['49', 'Soleil'], ['50', 'Pluie'], ['51', 'Soleil'], ['52', 'Soleil'], ['53', 'Soleil'], ['54', 'Soleil'], ['55', 'Soleil'], ['56', 'Soleil'], ['57', 'Soleil'], ['58', 'Soleil'], ['59', 'Soleil'], ['60', 'Soleil'], ['61', 'Soleil'], ['62', 'Pluie'], ['63', 'Nuage'], ['64', 'Nuage'], ['65', 'Soleil'], ['66', 'Pluie'], ['67', 'Pluie'], ['68', 'Soleil'], ['69', 'Soleil'], ['70', 'Soleil'], ['71', 'Nuage'], ['72', 'Nuage'], ['73', 'Nuage'], ['74', 'Nuage'], ['75', 'Nuage'], ['76', 'Soleil'], ['77', 'Soleil'], ['78', 'Soleil'], ['79', 'Soleil'], ['80', 'Soleil'], ['81', 'Nuage'], ['82', 'Soleil'], ['83', 'Soleil'], ['84', 'Nuage'], ['85', 'Soleil'], ['86', 'Nuage'], ['87', 'Nuage'], ['88', 'Nuage'], ['89', 'Nuage'], ['90', 'Pluie'], ['91', 'Soleil'], ['92', 'Nuage'], ['93', 'Nuage'], ['94', 'Nuage'], ['95', 'Soleil'], ['96', 'Soleil'], ['97', 'Soleil'], ['98', 'Soleil'], ['99', 'Nuage'], ['100', 'Soleil'], ['101', 'Soleil'], ['102', 'Soleil'], ['103', 'Soleil'], ['104', 'Soleil'], ['105', 'Pluie'], ['106', 'Soleil'], ['107', 'Soleil'], ['108', 'Soleil'], ['109', 'Soleil'], ['110', 'Nuage'], ['111', 'Nuage'], ['112', 'Nuage'], ['113', 'Soleil'], ['114', 'Pluie'], ['115', 'Soleil'], ['116', 'Soleil'], ['117', 'Soleil'], ['118', 'Nuage'], ['119', 'Nuage'], ['120', 'Soleil'], ['121', 'Soleil'], ['122', 'Nuage'], ['123', 'Soleil'], ['124', 'Soleil'], ['125', 'Pluie'], ['126', 'Pluie'], ['127', 'Pluie'], ['128', 'Soleil'], ['129', 'Orage'], ['130', 'Nuage'], ['131', 'Soleil'], ['132', 'Nuage'], ['133', 'Soleil'], ['134', 'Nuage'], ['135', 'Nuage'], ['136', 'Soleil'], ['137', 'Soleil'], ['138', 'Soleil'], ['139', 'Soleil'], ['140', 'Nuage'], ['141', 'Nuage'], ['142', 'Soleil'], ['143', 'Soleil'], ['144', 'Soleil'], ['145', 'Soleil'], ['146', 'Soleil'], ['147', 'Soleil'], ['148', 'Soleil'], ['149', 'Nuage'], ['150', 'Nuage'], ['151', 'Soleil'], ['152', 'Soleil'], ['153', 'Soleil'], ['154', 'Soleil'], ['155', 'Soleil'], ['156', 'Soleil'], ['157', 'Nuage'], ['158', 'Nuage'], ['159', 'Soleil'], ['160', 'Soleil'], ['161', 'Soleil'], ['162', 'Soleil'], ['163', 'Nuage'], ['164', 'Nuage'], ['165', 'Nuage'], ['166', 'Soleil'], ['167', 'Soleil'], ['168', 'Nuage'], ['169', 'Nuage'], ['170', 'Nuage'], ['171', 'Soleil'], ['172', 'Soleil'], ['173', 'Soleil'], ['174', 'Soleil'], ['175', 'Soleil'], ['176', 'Nuage'], ['177', 'Nuage'], ['178', 'Nuage'], ['179', 'Nuage'], ['180', 'Nuage'], ['181', 'Soleil'], ['182', 'Nuage'], ['183', 'Nuage'], ['184', 'Nuage'], ['185', 'Nuage'], ['186', 'Soleil'], ['187', 'Soleil'], ['188', 'Soleil'], ['189', 'Soleil'], ['190', 'Nuage'], ['191', 'Soleil'], ['192', 'Nuage-Pluie'], ['193', 'Nuage'], ['194', 'Nuage'], ['195', 'Soleil'], ['196', 'Nuage'], ['197', 'Soleil'], ['198', 'Nuage'], ['199', 'Nuage'], ['200', 'Nuage'], ['201', 'Soleil'], ['202', 'Pluie'], ['203', 'Nuage'], ['204', 'Nuage'], ['205', 'Nuage'], ['206', 'Nuage'], ['207', 'Nuage-Pluie'], ['208', 'Soleil'], ['209', 'Soleil'], ['210', 'Nuage'], ['211', 'Soleil'], ['212', 'Soleil'], ['213', 'Nuage'], ['214', 'Nuage'], ['215', 'Soleil'], ['216', 'Soleil'], ['217', 'Nuage'], ['218', 'Nuage'], ['219', 'Nuage'], ['220', 'Soleil'], ['221', 'Soleil'], ['222', 'Soleil'], ['223', 'Soleil'], ['224', 'Nuage'], ['225', 'Nuage'], ['226', 'Nuage'], ['227', 'Nuage'], ['228', 'Nuage'], ['229', 'Nuage'], ['230', 'Nuage'], ['231', 'Nuage'], ['232', 'Nuage'], ['233', 'Nuage'], ['234', 'Soleil'], ['235', 'Nuage'], ['236', 'Nuage'], ['237', 'Nuage'], ['238', 'Nuage'], ['239', 'Soleil'], ['240', 'Nuage'], ['241', 'Nuage'], ['242', 'Nuage'], ['243', 'Soleil'], ['244', 'Soleil'], ['245', 'Nuage'], ['246', 'Soleil'], ['247', 'Nuage'], ['248', 'Nuage'], ['249', 'Soleil'], ['250', 'Soleil'], ['251', 'Nuage'], ['252', 'Nuage'], ['253', 'Nuage'], ['254', 'Soleil'], ['255', 'Soleil'], ['256', 'Nuage'], ['257', 'Nuage'], ['258', 'Soleil'], ['259', 'Nuage'], ['260', 'Nuage'], ['261', 'Nuage'], ['262', 'Nuage'], ['263', 'Nuage'], ['264', 'Soleil'], ['265', 'Soleil'], ['266', 'Soleil'], ['267', 'Nuage'], ['268', 'Soleil'], ['269', 'Soleil'], ['270', 'Soleil'], ['271', 'Soleil'], ['272', 'Soleil'], ['273', 'Soleil'], ['274', 'Nuage'], ['275', 'Soleil'], ['276', 'Nuage'], ['277', 'Soleil'], ['278', 'Soleil'], ['279', 'Soleil'], ['280', 'Soleil'], ['281', 'Nuage'], ['282', 'Pluie'], ['283', 'Soleil'], ['284', 'Soleil'], ['285', 'Soleil'], ['286', 'Soleil'], ['287', 'Soleil'], ['288', 'Soleil'], ['289', 'Soleil'], ['290', 'Soleil'], ['291', 'Soleil'], ['292', 'Nuage'], ['293', 'Nuage'], ['294', 'Nuage'], ['295', 'Nuage'], ['296', 'Soleil'], ['297', 'Soleil'], ['298', 'Nuage'], ['299', 'Nuage'], ['300', 'Nuage'], ['301', 'Soleil'], ['302', 'Soleil'], ['303', 'Soleil'], ['304', 'Soleil'], ['305', 'Soleil'], ['306', 'Soleil'], ['307', 'Soleil'], ['308', 'Soleil'], ['309', 'Nuage'], ['310', 'Soleil'], ['311', 'Soleil'], ['312', 'Nuage'], ['313', 'Nuage'], ['314', 'Soleil'], ['315', 'Nuage'], ['316', 'Nuage'], ['317', 'Soleil'], ['318', 'Soleil'], ['319', 'Nuage'], ['320', 'Soleil'], ['321', 'Soleil'], ['322', 'Nuage'], ['323', 'Soleil'], ['324', 'Pluie'], ['325', 'Pluie'], ['326', 'Pluie'], ['327', 'Soleil'], ['328', 'Soleil'], ['329', 'Soleil'], ['330', 'Soleil'], ['331', 'Soleil'], ['332', 'Soleil'], ['333', 'Pluie'], ['334', 'Soleil'], ['335', 'Soleil'], ['336', 'Soleil'], ['337', 'Soleil'], ['338', 'Soleil'], ['339', 'Soleil'], ['340', 'Soleil'], ['341', 'Pluie'], ['342', 'Soleil'], ['343', 'Soleil'], ['344', 'Soleil'], ['345', 'Soleil'], ['346', 'Nuage'], ['347', 'Nuage'], ['348', 'Soleil'], ['349', 'Soleil'], ['350', 'Soleil'], ['351', 'Soleil'], ['352', 'Soleil'], ['353', 'Pluie'], ['354', 'Soleil'], ['355', 'Soleil'], ['356', 'Soleil'], ['357', 'Nuage'], ['358', 'Soleil'], ['359', 'Soleil'], ['360', 'Soleil'], ['361', 'Soleil'], ['362', 'Soleil'], ['363', 'Nuage'], ['364', 'Nuage'], ['365', 'Nuage']]\n"
     ]
    }
   ],
   "source": [
    "print(new_w)"
   ]
  },
  {
   "cell_type": "code",
   "execution_count": 165,
   "metadata": {},
   "outputs": [],
   "source": [
    "w_count = {}\n",
    "\n",
    "for i in cli:\n",
    "    if i in w_count:\n",
    "        w_count[i] += 1\n",
    "    else:\n",
    "        w_count[i] = 1"
   ]
  },
  {
   "cell_type": "code",
   "execution_count": 166,
   "metadata": {},
   "outputs": [
    {
     "name": "stdout",
     "output_type": "stream",
     "text": [
      "{'Soleil': 210, 'Pluie': 25, 'Nuage': 125, 'Nuage-Pluie': 4, 'Orage': 1}\n"
     ]
    }
   ],
   "source": [
    "print(w_count)"
   ]
  },
  {
   "cell_type": "code",
   "execution_count": 170,
   "metadata": {},
   "outputs": [
    {
     "data": {
      "text/plain": [
       "'à afin autant automatique automatisées autres aux bien calcul ces comme complexes compression connaissance considérée danalyse dans de den densembles des dincertitude discipline disjointes domaines données elle emploie en est et extraire formes généralement généraux haute informations informatique intéressantes la lanalytique lapprentissage larges le les lextraction limitée linformation lingénierie masse mathématiques méthodes modèles modélisation moins ne notamment objectif ou particulièrement pas performance plus plusieurs possible potentiellement premier principalement probabilistes produire programmation prophétique que qui reconnaissance sadaptent science signal soit sont source sources statistique stockage techniques technologie termes théorie théories tirées traitement tri utiles visualisation wikipédia'"
      ]
     },
     "execution_count": 170,
     "metadata": {},
     "output_type": "execute_result"
    }
   ],
   "source": [
    "fd = open('dictionnaire.txt', 'r', encoding='utf-8').read()\n",
    "fd"
   ]
  },
  {
   "cell_type": "code",
   "execution_count": 171,
   "metadata": {},
   "outputs": [],
   "source": [
    "tok_voc = fd.split(' ')"
   ]
  },
  {
   "cell_type": "code",
   "execution_count": 172,
   "metadata": {},
   "outputs": [
    {
     "data": {
      "text/plain": [
       "['à',\n",
       " 'afin',\n",
       " 'autant',\n",
       " 'automatique',\n",
       " 'automatisées',\n",
       " 'autres',\n",
       " 'aux',\n",
       " 'bien',\n",
       " 'calcul',\n",
       " 'ces',\n",
       " 'comme',\n",
       " 'complexes',\n",
       " 'compression',\n",
       " 'connaissance',\n",
       " 'considérée',\n",
       " 'danalyse',\n",
       " 'dans',\n",
       " 'de',\n",
       " 'den',\n",
       " 'densembles',\n",
       " 'des',\n",
       " 'dincertitude',\n",
       " 'discipline',\n",
       " 'disjointes',\n",
       " 'domaines',\n",
       " 'données',\n",
       " 'elle',\n",
       " 'emploie',\n",
       " 'en',\n",
       " 'est',\n",
       " 'et',\n",
       " 'extraire',\n",
       " 'formes',\n",
       " 'généralement',\n",
       " 'généraux',\n",
       " 'haute',\n",
       " 'informations',\n",
       " 'informatique',\n",
       " 'intéressantes',\n",
       " 'la',\n",
       " 'lanalytique',\n",
       " 'lapprentissage',\n",
       " 'larges',\n",
       " 'le',\n",
       " 'les',\n",
       " 'lextraction',\n",
       " 'limitée',\n",
       " 'linformation',\n",
       " 'lingénierie',\n",
       " 'masse',\n",
       " 'mathématiques',\n",
       " 'méthodes',\n",
       " 'modèles',\n",
       " 'modélisation',\n",
       " 'moins',\n",
       " 'ne',\n",
       " 'notamment',\n",
       " 'objectif',\n",
       " 'ou',\n",
       " 'particulièrement',\n",
       " 'pas',\n",
       " 'performance',\n",
       " 'plus',\n",
       " 'plusieurs',\n",
       " 'possible',\n",
       " 'potentiellement',\n",
       " 'premier',\n",
       " 'principalement',\n",
       " 'probabilistes',\n",
       " 'produire',\n",
       " 'programmation',\n",
       " 'prophétique',\n",
       " 'que',\n",
       " 'qui',\n",
       " 'reconnaissance',\n",
       " 'sadaptent',\n",
       " 'science',\n",
       " 'signal',\n",
       " 'soit',\n",
       " 'sont',\n",
       " 'source',\n",
       " 'sources',\n",
       " 'statistique',\n",
       " 'stockage',\n",
       " 'techniques',\n",
       " 'technologie',\n",
       " 'termes',\n",
       " 'théorie',\n",
       " 'théories',\n",
       " 'tirées',\n",
       " 'traitement',\n",
       " 'tri',\n",
       " 'utiles',\n",
       " 'visualisation',\n",
       " 'wikipédia']"
      ]
     },
     "execution_count": 172,
     "metadata": {},
     "output_type": "execute_result"
    }
   ],
   "source": [
    "tok_voc"
   ]
  },
  {
   "cell_type": "code",
   "execution_count": 176,
   "metadata": {},
   "outputs": [
    {
     "data": {
      "text/plain": [
       "\"En termes généraux, la scence des données est l'extraction de conaissance d'ensembles de données.   \\n \\nElle emploie des techniques et des théories tirées de plusieurs autres domaines plus larges des mathématiques, la statistique principalement, la téorie de l'information et la technologie de l'information, notamment le traitement de signal, des modèles probabilistes, l'apprentissage automatique, l'apprentissage statistiqe, la programmation informatique, l'ingénierie de données, la reconnaissance de formes et l'apprentissage, la visualisation, l'analytique prophétique, la modélisation d'incertitude, le stokage de données, la compression de données et le calcul à haute performance. \\n \\nLes méthodes qui s'adaptent aux données de masse sont particulièrement intéressantes dans la science des données, bien que la dicipline ne soit généralement pas considérée come limitée à ces données.   \\n \\nLe premier objectif est de produire des méthodes automatisées, autant que possible de tri et d'analyse de données de masse et de sources plus ou moins complexes ou disjointes de données, afin d'en extraire des informations utiles ou potentiellement utiles. Source Wikipédia\""
      ]
     },
     "execution_count": 176,
     "metadata": {},
     "output_type": "execute_result"
    }
   ],
   "source": [
    "txt=open('texte.txt', 'r', encoding='utf-8').read()\n",
    "txt"
   ]
  },
  {
   "cell_type": "code",
   "execution_count": 177,
   "metadata": {},
   "outputs": [],
   "source": [
    "txt = txt.replace('\\n', ' ')"
   ]
  },
  {
   "cell_type": "code",
   "execution_count": 178,
   "metadata": {},
   "outputs": [
    {
     "data": {
      "text/plain": [
       "\"En termes généraux, la scence des données est l'extraction de conaissance d'ensembles de données.      Elle emploie des techniques et des théories tirées de plusieurs autres domaines plus larges des mathématiques, la statistique principalement, la téorie de l'information et la technologie de l'information, notamment le traitement de signal, des modèles probabilistes, l'apprentissage automatique, l'apprentissage statistiqe, la programmation informatique, l'ingénierie de données, la reconnaissance de formes et l'apprentissage, la visualisation, l'analytique prophétique, la modélisation d'incertitude, le stokage de données, la compression de données et le calcul à haute performance.    Les méthodes qui s'adaptent aux données de masse sont particulièrement intéressantes dans la science des données, bien que la dicipline ne soit généralement pas considérée come limitée à ces données.      Le premier objectif est de produire des méthodes automatisées, autant que possible de tri et d'analyse de données de masse et de sources plus ou moins complexes ou disjointes de données, afin d'en extraire des informations utiles ou potentiellement utiles. Source Wikipédia\""
      ]
     },
     "execution_count": 178,
     "metadata": {},
     "output_type": "execute_result"
    }
   ],
   "source": [
    "txt"
   ]
  },
  {
   "cell_type": "code",
   "execution_count": 179,
   "metadata": {},
   "outputs": [],
   "source": [
    "txt = txt.replace(',','')\n",
    "txt = txt.replace('.','')\n",
    "txt = txt.replace(\"'\",'')"
   ]
  },
  {
   "cell_type": "code",
   "execution_count": 180,
   "metadata": {},
   "outputs": [
    {
     "data": {
      "text/plain": [
       "'En termes généraux la scence des données est lextraction de conaissance densembles de données      Elle emploie des techniques et des théories tirées de plusieurs autres domaines plus larges des mathématiques la statistique principalement la téorie de linformation et la technologie de linformation notamment le traitement de signal des modèles probabilistes lapprentissage automatique lapprentissage statistiqe la programmation informatique lingénierie de données la reconnaissance de formes et lapprentissage la visualisation lanalytique prophétique la modélisation dincertitude le stokage de données la compression de données et le calcul à haute performance    Les méthodes qui sadaptent aux données de masse sont particulièrement intéressantes dans la science des données bien que la dicipline ne soit généralement pas considérée come limitée à ces données      Le premier objectif est de produire des méthodes automatisées autant que possible de tri et danalyse de données de masse et de sources plus ou moins complexes ou disjointes de données afin den extraire des informations utiles ou potentiellement utiles Source Wikipédia'"
      ]
     },
     "execution_count": 180,
     "metadata": {},
     "output_type": "execute_result"
    }
   ],
   "source": [
    "txt"
   ]
  },
  {
   "cell_type": "code",
   "execution_count": 182,
   "metadata": {},
   "outputs": [
    {
     "name": "stdout",
     "output_type": "stream",
     "text": [
      "lslslsls\n"
     ]
    }
   ],
   "source": [
    "print(test)"
   ]
  },
  {
   "cell_type": "code",
   "execution_count": 186,
   "metadata": {},
   "outputs": [],
   "source": [
    "texte = open('texte.txt', 'r', encoding='utf-8').read()"
   ]
  },
  {
   "cell_type": "code",
   "execution_count": 191,
   "metadata": {},
   "outputs": [],
   "source": [
    "def clean(string):\n",
    "    clean_str = string.replace('.','')\n",
    "    clean_str = clean_str.replace('\\n','')\n",
    "    clean_str = clean_str.replace(',','')\n",
    "    clean_str = clean_str.replace(\"'\",'')\n",
    "    clean_str = clean_str.lower()\n",
    "    return(clean_str)"
   ]
  },
  {
   "cell_type": "code",
   "execution_count": 192,
   "metadata": {},
   "outputs": [
    {
     "name": "stdout",
     "output_type": "stream",
     "text": [
      "En termes généraux la scence des données est lextraction de conaissance densembles de données    Elle emploie des techniques et des théories tirées de plusieurs autres domaines plus larges des mathématiques la statistique principalement la téorie de linformation et la technologie de linformation notamment le traitement de signal des modèles probabilistes lapprentissage automatique lapprentissage statistiqe la programmation informatique lingénierie de données la reconnaissance de formes et lapprentissage la visualisation lanalytique prophétique la modélisation dincertitude le stokage de données la compression de données et le calcul à haute performance  Les méthodes qui sadaptent aux données de masse sont particulièrement intéressantes dans la science des données bien que la dicipline ne soit généralement pas considérée come limitée à ces données    Le premier objectif est de produire des méthodes automatisées autant que possible de tri et danalyse de données de masse et de sources plus ou moins complexes ou disjointes de données afin den extraire des informations utiles ou potentiellement utiles Source Wikipédia\n"
     ]
    }
   ],
   "source": [
    "print(texte)"
   ]
  },
  {
   "cell_type": "code",
   "execution_count": 193,
   "metadata": {},
   "outputs": [],
   "source": [
    "texte=clean(texte)"
   ]
  },
  {
   "cell_type": "code",
   "execution_count": 194,
   "metadata": {},
   "outputs": [
    {
     "name": "stdout",
     "output_type": "stream",
     "text": [
      "en termes généraux la scence des données est lextraction de conaissance densembles de données    elle emploie des techniques et des théories tirées de plusieurs autres domaines plus larges des mathématiques la statistique principalement la téorie de linformation et la technologie de linformation notamment le traitement de signal des modèles probabilistes lapprentissage automatique lapprentissage statistiqe la programmation informatique lingénierie de données la reconnaissance de formes et lapprentissage la visualisation lanalytique prophétique la modélisation dincertitude le stokage de données la compression de données et le calcul à haute performance  les méthodes qui sadaptent aux données de masse sont particulièrement intéressantes dans la science des données bien que la dicipline ne soit généralement pas considérée come limitée à ces données    le premier objectif est de produire des méthodes automatisées autant que possible de tri et danalyse de données de masse et de sources plus ou moins complexes ou disjointes de données afin den extraire des informations utiles ou potentiellement utiles source wikipédia\n"
     ]
    }
   ],
   "source": [
    "print(texte)"
   ]
  },
  {
   "cell_type": "code",
   "execution_count": 1,
   "metadata": {},
   "outputs": [],
   "source": [
    "def clean_up(string,   chg_str):\n",
    "    return(clean_str)"
   ]
  },
  {
   "cell_type": "code",
   "execution_count": 3,
   "metadata": {},
   "outputs": [
    {
     "ename": "ModuleNotFoundError",
     "evalue": "No module named 'tensorflow'",
     "output_type": "error",
     "traceback": [
      "\u001b[0;31m---------------------------------------------------------------------------\u001b[0m",
      "\u001b[0;31mModuleNotFoundError\u001b[0m                       Traceback (most recent call last)",
      "\u001b[0;32m<ipython-input-3-d6579f534729>\u001b[0m in \u001b[0;36m<module>\u001b[0;34m\u001b[0m\n\u001b[0;32m----> 1\u001b[0;31m \u001b[0;32mimport\u001b[0m \u001b[0mtensorflow\u001b[0m\u001b[0;34m\u001b[0m\u001b[0m\n\u001b[0m",
      "\u001b[0;31mModuleNotFoundError\u001b[0m: No module named 'tensorflow'"
     ]
    }
   ],
   "source": [
    "import tensorflow"
   ]
  },
  {
   "cell_type": "code",
   "execution_count": null,
   "metadata": {},
   "outputs": [],
   "source": []
  }
 ],
 "metadata": {
  "kernelspec": {
   "display_name": "Python 3",
   "language": "python",
   "name": "python3"
  },
  "language_info": {
   "codemirror_mode": {
    "name": "ipython",
    "version": 3
   },
   "file_extension": ".py",
   "mimetype": "text/x-python",
   "name": "python",
   "nbconvert_exporter": "python",
   "pygments_lexer": "ipython3",
   "version": "3.7.0"
  }
 },
 "nbformat": 4,
 "nbformat_minor": 2
}
