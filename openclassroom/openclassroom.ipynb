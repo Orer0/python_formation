{
 "cells": [
  {
   "cell_type": "code",
   "execution_count": null,
   "metadata": {},
   "outputs": [],
   "source": [
    "class Duree:\n",
    "    \"\"\"Classe contenant des durées sous la forme d'un nombre de minutes\n",
    "    et de secondes\"\"\"\n",
    "    \n",
    "    def __init__(self, min=0, sec=0):\n",
    "        \"\"\"Constructeur de la classe\"\"\"\n",
    "        self.min = min # Nombre de minutes\n",
    "        self.sec = sec # Nombre de secondes\n",
    "    def __str__(self):\n",
    "        \"\"\"Affichage un peu plus joli de nos objets\"\"\"\n",
    "        return \"{0:02}:{1:02}\".format(self.min, self.sec)"
   ]
  }
 ],
 "metadata": {
  "kernelspec": {
   "display_name": "Python 3",
   "language": "python",
   "name": "python3"
  },
  "language_info": {
   "codemirror_mode": {
    "name": "ipython",
    "version": 3
   },
   "file_extension": ".py",
   "mimetype": "text/x-python",
   "name": "python",
   "nbconvert_exporter": "python",
   "pygments_lexer": "ipython3",
   "version": "3.7.0"
  }
 },
 "nbformat": 4,
 "nbformat_minor": 2
}
