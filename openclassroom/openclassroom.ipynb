{
 "cells": [
  {
   "cell_type": "code",
   "execution_count": 47,
   "metadata": {},
   "outputs": [],
   "source": [
    "class Duree:\n",
    "    \"\"\"Classe contenant des durées sous la forme d'un nombre de minutes\n",
    "    et de secondes\"\"\"\n",
    "    \n",
    "    def __init__(self, min=0, sec=0):\n",
    "        \"\"\"Constructeur de la classe\"\"\"\n",
    "        self.min = 14 # Nombre de minutes\n",
    "        self.sec = sec # Nombre de secondes\n",
    "    def __str__(self):\n",
    "        \"\"\"Affichage un peu plus joli de nos objets\"\"\"\n",
    "        return \"{0:02}:{1:02}\".format(self.min, self.sec)\n",
    "\n",
    "\n",
    "class Test(Duree):\n",
    "    def __init__(self, min=0, test=9):\n",
    "        Duree.__init__(self,min)\n",
    "        self.test = test\n",
    "    def test(self):\n",
    "        print(self.test)"
   ]
  },
  {
   "cell_type": "code",
   "execution_count": 48,
   "metadata": {},
   "outputs": [],
   "source": [
    "a = Test(1)"
   ]
  },
  {
   "cell_type": "code",
   "execution_count": 49,
   "metadata": {},
   "outputs": [
    {
     "data": {
      "text/plain": [
       "0"
      ]
     },
     "execution_count": 49,
     "metadata": {},
     "output_type": "execute_result"
    }
   ],
   "source": [
    "a.sec"
   ]
  },
  {
   "cell_type": "code",
   "execution_count": 50,
   "metadata": {},
   "outputs": [
    {
     "data": {
      "text/plain": [
       "9"
      ]
     },
     "execution_count": 50,
     "metadata": {},
     "output_type": "execute_result"
    }
   ],
   "source": [
    "a.test"
   ]
  },
  {
   "cell_type": "code",
   "execution_count": null,
   "metadata": {},
   "outputs": [],
   "source": [
    "class DicOrdon:\n",
    "    def __init__(self, dic{}, data**):\n",
    "        self._val = []\n",
    "        self._key = []\n",
    "    \n",
    "    if \n",
    "        "
   ]
  }
 ],
 "metadata": {
  "kernelspec": {
   "display_name": "Python 3",
   "language": "python",
   "name": "python3"
  },
  "language_info": {
   "codemirror_mode": {
    "name": "ipython",
    "version": 3
   },
   "file_extension": ".py",
   "mimetype": "text/x-python",
   "name": "python",
   "nbconvert_exporter": "python",
   "pygments_lexer": "ipython3",
   "version": "3.7.0"
  }
 },
 "nbformat": 4,
 "nbformat_minor": 2
}
